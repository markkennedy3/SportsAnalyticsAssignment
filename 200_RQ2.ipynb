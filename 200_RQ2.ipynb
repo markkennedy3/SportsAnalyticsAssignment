{
 "cells": [
  {
   "cell_type": "markdown",
   "metadata": {
    "toc": true
   },
   "source": [
    "<h1>Table of Contents<span class=\"tocSkip\"></span></h1>\n",
    "<div class=\"toc\"><ul class=\"toc-item\"><li><span><a href=\"#Load-The-Data\" data-toc-modified-id=\"Load-The-Data-1\"><span class=\"toc-item-num\">1&nbsp;&nbsp;</span>Load The Data</a></span><ul class=\"toc-item\"><li><span><a href=\"#Explore\" data-toc-modified-id=\"Explore-1.1\"><span class=\"toc-item-num\">1.1&nbsp;&nbsp;</span>Explore</a></span><ul class=\"toc-item\"><li><span><a href=\"#Hand\" data-toc-modified-id=\"Hand-1.1.1\"><span class=\"toc-item-num\">1.1.1&nbsp;&nbsp;</span>Hand</a></span></li><li><span><a href=\"#Height\" data-toc-modified-id=\"Height-1.1.2\"><span class=\"toc-item-num\">1.1.2&nbsp;&nbsp;</span>Height</a></span></li><li><span><a href=\"#Minutes\" data-toc-modified-id=\"Minutes-1.1.3\"><span class=\"toc-item-num\">1.1.3&nbsp;&nbsp;</span>Minutes</a></span></li><li><span><a href=\"#Surface\" data-toc-modified-id=\"Surface-1.1.4\"><span class=\"toc-item-num\">1.1.4&nbsp;&nbsp;</span>Surface</a></span></li></ul></li></ul></li><li><span><a href=\"#Train-Test-Split\" data-toc-modified-id=\"Train-Test-Split-2\"><span class=\"toc-item-num\">2&nbsp;&nbsp;</span>Train Test Split</a></span></li><li><span><a href=\"#Machine-Learning-Models\" data-toc-modified-id=\"Machine-Learning-Models-3\"><span class=\"toc-item-num\">3&nbsp;&nbsp;</span>Machine Learning Models</a></span><ul class=\"toc-item\"><li><span><a href=\"#Logistic-Regression\" data-toc-modified-id=\"Logistic-Regression-3.1\"><span class=\"toc-item-num\">3.1&nbsp;&nbsp;</span>Logistic Regression</a></span></li><li><span><a href=\"#Decision-Tree-Classifier\" data-toc-modified-id=\"Decision-Tree-Classifier-3.2\"><span class=\"toc-item-num\">3.2&nbsp;&nbsp;</span>Decision Tree Classifier</a></span></li><li><span><a href=\"#Random-Forest-Classifier\" data-toc-modified-id=\"Random-Forest-Classifier-3.3\"><span class=\"toc-item-num\">3.3&nbsp;&nbsp;</span>Random Forest Classifier</a></span></li><li><span><a href=\"#KNeighbors-Classifier\" data-toc-modified-id=\"KNeighbors-Classifier-3.4\"><span class=\"toc-item-num\">3.4&nbsp;&nbsp;</span>KNeighbors Classifier</a></span></li><li><span><a href=\"#SGDC-Classifier\" data-toc-modified-id=\"SGDC-Classifier-3.5\"><span class=\"toc-item-num\">3.5&nbsp;&nbsp;</span>SGDC Classifier</a></span></li><li><span><a href=\"#Gradient-Boosting-Classifier\" data-toc-modified-id=\"Gradient-Boosting-Classifier-3.6\"><span class=\"toc-item-num\">3.6&nbsp;&nbsp;</span>Gradient Boosting Classifier</a></span></li><li><span><a href=\"#Perceptron\" data-toc-modified-id=\"Perceptron-3.7\"><span class=\"toc-item-num\">3.7&nbsp;&nbsp;</span>Perceptron</a></span></li><li><span><a href=\"#Linear-SVC\" data-toc-modified-id=\"Linear-SVC-3.8\"><span class=\"toc-item-num\">3.8&nbsp;&nbsp;</span>Linear SVC</a></span></li><li><span><a href=\"#Gausian-NB\" data-toc-modified-id=\"Gausian-NB-3.9\"><span class=\"toc-item-num\">3.9&nbsp;&nbsp;</span>Gausian NB</a></span></li><li><span><a href=\"#SVC\" data-toc-modified-id=\"SVC-3.10\"><span class=\"toc-item-num\">3.10&nbsp;&nbsp;</span>SVC</a></span></li></ul></li><li><span><a href=\"#Model-Evaluations\" data-toc-modified-id=\"Model-Evaluations-4\"><span class=\"toc-item-num\">4&nbsp;&nbsp;</span>Model Evaluations</a></span></li></ul></div>"
   ]
  },
  {
   "cell_type": "markdown",
   "metadata": {},
   "source": [
    "# Load The Data"
   ]
  },
  {
   "cell_type": "code",
   "execution_count": null,
   "metadata": {},
   "outputs": [],
   "source": [
    "import pandas as pd\n",
    "from sklearn import metrics\n",
    "from matplotlib import pyplot\n",
    "import matplotlib.pyplot as plt\n",
    "from sklearn.preprocessing import StandardScaler\n",
    "from sklearn.model_selection import train_test_split\n",
    "from sklearn.linear_model import LogisticRegression\n",
    "from sklearn.tree import DecisionTreeClassifier\n",
    "from sklearn.ensemble import RandomForestClassifier\n",
    "from sklearn.neighbors import KNeighborsClassifier\n",
    "from sklearn.linear_model import SGDClassifier\n",
    "from sklearn.ensemble import GradientBoostingClassifier\n",
    "from sklearn.linear_model import Perceptron\n",
    "from sklearn.svm import LinearSVC\n",
    "from sklearn.svm import SVC\n",
    "from sklearn.naive_bayes import GaussianNB\n",
    "from sklearn.metrics import accuracy_score"
   ]
  },
  {
   "cell_type": "code",
   "execution_count": null,
   "metadata": {},
   "outputs": [],
   "source": [
    "plt.rcParams['text.color'] = 'k'\n",
    "plt.rcParams['axes.labelcolor'] = 'k'\n",
    "plt.rcParams['axes.titlesize'] = 24\n",
    "plt.rcParams['axes.labelsize'] = 24\n",
    "plt.rcParams['ytick.labelsize'] = 15\n",
    "plt.rcParams['xtick.labelsize'] = 15\n",
    "plt.rcParams['axes.grid'] = True\n",
    "plt.rcParams['lines.markersize'] = 15\n",
    "plt.rcParams['lines.markeredgewidth'] = 1\n",
    "plt.rcParams['lines.linewidth'] = 2\n",
    "plt.rcParams['legend.fontsize'] = 12"
   ]
  },
  {
   "cell_type": "code",
   "execution_count": null,
   "metadata": {},
   "outputs": [],
   "source": [
    "RQ2_df = pd.read_csv('RQ2_df.csv')\n",
    "df = RQ2_df"
   ]
  },
  {
   "cell_type": "code",
   "execution_count": null,
   "metadata": {},
   "outputs": [],
   "source": [
    "df.winner.value_counts()"
   ]
  },
  {
   "cell_type": "code",
   "execution_count": null,
   "metadata": {},
   "outputs": [],
   "source": [
    "df.columns"
   ]
  },
  {
   "cell_type": "code",
   "execution_count": null,
   "metadata": {},
   "outputs": [],
   "source": [
    "df.groupby('winner')['minutes'].mean()"
   ]
  },
  {
   "cell_type": "markdown",
   "metadata": {},
   "source": [
    "## Explore"
   ]
  },
  {
   "cell_type": "markdown",
   "metadata": {},
   "source": [
    "### Hand"
   ]
  },
  {
   "cell_type": "code",
   "execution_count": null,
   "metadata": {},
   "outputs": [],
   "source": [
    "(df.groupby('winner')['hand'].value_counts()/372)*100"
   ]
  },
  {
   "cell_type": "markdown",
   "metadata": {},
   "source": [
    "### Height"
   ]
  },
  {
   "cell_type": "code",
   "execution_count": null,
   "metadata": {},
   "outputs": [],
   "source": [
    "df.groupby('winner')['height'].mean()"
   ]
  },
  {
   "cell_type": "markdown",
   "metadata": {},
   "source": [
    "### Minutes"
   ]
  },
  {
   "cell_type": "code",
   "execution_count": null,
   "metadata": {},
   "outputs": [],
   "source": [
    "df.groupby('winner')['minutes'].mean()"
   ]
  },
  {
   "cell_type": "markdown",
   "metadata": {},
   "source": [
    "### Surface"
   ]
  },
  {
   "cell_type": "code",
   "execution_count": null,
   "metadata": {},
   "outputs": [],
   "source": [
    "(df.groupby('winner')['surface'].value_counts()/372)*100"
   ]
  },
  {
   "cell_type": "code",
   "execution_count": null,
   "metadata": {},
   "outputs": [],
   "source": [
    "df.groupby('winner')['surface'].value_counts()"
   ]
  },
  {
   "cell_type": "code",
   "execution_count": null,
   "metadata": {},
   "outputs": [],
   "source": [
    "df['surface'].value_counts()"
   ]
  },
  {
   "cell_type": "code",
   "execution_count": null,
   "metadata": {},
   "outputs": [],
   "source": [
    "print(\"Field&Hard: \" + str(239/463))\n",
    "print(\"Field&Clay: \" + str(93/196))\n",
    "print(\"Field&Grass: \" + str(40/85))"
   ]
  },
  {
   "cell_type": "code",
   "execution_count": null,
   "metadata": {},
   "outputs": [],
   "source": [
    "print(\"Top3&Hard: \" + str(224/463))\n",
    "print(\"Top3&Clay: \" + str(103/196))\n",
    "print(\"Top3&Grass: \" + str(45/85))"
   ]
  },
  {
   "cell_type": "markdown",
   "metadata": {},
   "source": [
    "# Train Test Split"
   ]
  },
  {
   "cell_type": "code",
   "execution_count": null,
   "metadata": {},
   "outputs": [],
   "source": [
    "X = df[['height','aces_per_game_served','aces_per_total_serves','doublefaults_per_game_served','doublefaults_per_points_lost','doublefaults_per_2nd_serves','doublefaults_per_2nd_lost','1stIn_per_total_serves',\n",
    "        '1stWon_per_total1stserves','1stfault_per_1stserves','1stWon_per_game_served','1stWon_per_1stIns','2ndserves_per_totalserves','2ndIn_per_total2ndserves','2ndWon_per_total2ndserves','2ndWon_per_2ndIn','bpFaced_per_game_served',\n",
    "        'bpSaved_per_bpFaced','1stInsReceivedWon_per_received','2ndInsReceivedWon_per_received','bpChallenged_per_games_received','bpWon_per_bpChallenged']]\n",
    "y = df['winner']"
   ]
  },
  {
   "cell_type": "code",
   "execution_count": null,
   "metadata": {},
   "outputs": [],
   "source": [
    "X_train, X_test, y_train, y_test = train_test_split(X, y, test_size=0.25, random_state=40)"
   ]
  },
  {
   "cell_type": "code",
   "execution_count": null,
   "metadata": {},
   "outputs": [],
   "source": [
    "len(X_train)"
   ]
  },
  {
   "cell_type": "code",
   "execution_count": null,
   "metadata": {},
   "outputs": [],
   "source": [
    "len(y_train)"
   ]
  },
  {
   "cell_type": "code",
   "execution_count": null,
   "metadata": {},
   "outputs": [],
   "source": [
    "len(X_test)"
   ]
  },
  {
   "cell_type": "code",
   "execution_count": null,
   "metadata": {},
   "outputs": [],
   "source": [
    "len(y_test)"
   ]
  },
  {
   "cell_type": "code",
   "execution_count": null,
   "metadata": {},
   "outputs": [],
   "source": [
    "X.isnull().sum()"
   ]
  },
  {
   "cell_type": "markdown",
   "metadata": {},
   "source": [
    "# Machine Learning Models"
   ]
  },
  {
   "cell_type": "code",
   "execution_count": null,
   "metadata": {},
   "outputs": [],
   "source": [
    "features = ['height','aces_per_game_served','aces_per_total_serves','doublefaults_per_game_served','doublefaults_per_points_lost','doublefaults_per_2nd_serves','doublefaults_per_2nd_lost','1stIn_per_total_serves',\n",
    "            '1stWon_per_total1stserves','1stfault_per_1stserves','1stWon_per_game_served','1stWon_per_1stIns','2ndserves_per_totalserves','2ndIn_per_total2ndserves','2ndWon_per_total2ndserves','2ndWon_per_2ndIn','bpFaced_per_game_served',\n",
    "            'bpSaved_per_bpFaced','1stInsReceivedWon_per_received','2ndInsReceivedWon_per_received','bpChallenged_per_games_received','bpWon_per_bpChallenged']"
   ]
  },
  {
   "cell_type": "markdown",
   "metadata": {},
   "source": [
    "## Logistic Regression"
   ]
  },
  {
   "cell_type": "code",
   "execution_count": null,
   "metadata": {},
   "outputs": [],
   "source": [
    "logisticRegr = LogisticRegression()\n",
    "\n",
    "logisticRegr.fit(X_train, y_train.ravel())\n",
    "\n",
    "predictions = logisticRegr.predict(X_test)\n",
    "\n",
    "score = (logisticRegr.score(X_test, y_test)*100)\n",
    "print(score)"
   ]
  },
  {
   "cell_type": "code",
   "execution_count": null,
   "metadata": {},
   "outputs": [],
   "source": [
    "importance = logisticRegr.coef_[0]\n",
    "\n",
    "for f, i in zip(features,importance):\n",
    "        print(\"Feature: \" + f + \", Score: \" + str(i))\n",
    "# plot feature importance\n",
    "pyplot.bar([x for x in range(len(importance))], importance)\n",
    "pyplot.show()"
   ]
  },
  {
   "cell_type": "markdown",
   "metadata": {},
   "source": [
    "## Decision Tree Classifier"
   ]
  },
  {
   "cell_type": "code",
   "execution_count": null,
   "metadata": {},
   "outputs": [],
   "source": [
    "decisiontree = DecisionTreeClassifier()\n",
    "\n",
    "decisiontree.fit(X_train, y_train)\n",
    "\n",
    "y_pred = decisiontree.predict(X_test)\n",
    "\n",
    "acc_decisiontree = round(accuracy_score(y_pred, y_test) * 100, 2)\n",
    "\n",
    "print(acc_decisiontree)"
   ]
  },
  {
   "cell_type": "code",
   "execution_count": null,
   "metadata": {},
   "outputs": [],
   "source": [
    "importance = decisiontree.feature_importances_\n",
    "\n",
    "for f, i in zip(features,importance):\n",
    "        print(\"Feature: \" + f + \", Score: \" + str(i))\n",
    "# plot feature importance\n",
    "pyplot.bar([x for x in range(len(importance))], importance)\n",
    "pyplot.show()"
   ]
  },
  {
   "cell_type": "markdown",
   "metadata": {},
   "source": [
    "## Random Forest Classifier"
   ]
  },
  {
   "cell_type": "code",
   "execution_count": null,
   "metadata": {},
   "outputs": [],
   "source": [
    "randomforest = RandomForestClassifier()\n",
    "\n",
    "randomforest.fit(X_train, y_train)\n",
    "\n",
    "y_pred = randomforest.predict(X_test)\n",
    "\n",
    "acc_randomforest = round(accuracy_score(y_pred, y_test) * 100, 2)\n",
    "\n",
    "print(acc_randomforest)"
   ]
  },
  {
   "cell_type": "code",
   "execution_count": null,
   "metadata": {},
   "outputs": [],
   "source": [
    "importance = randomforest.feature_importances_\n",
    "\n",
    "for f, i in zip(features,importance):\n",
    "        print(\"Feature: \" + f + \", Score: \" + str(i))\n",
    "# plot feature importance\n",
    "pyplot.bar([x for x in range(len(importance))], importance)\n",
    "pyplot.show()"
   ]
  },
  {
   "cell_type": "markdown",
   "metadata": {},
   "source": [
    "## KNeighbors Classifier"
   ]
  },
  {
   "cell_type": "code",
   "execution_count": null,
   "metadata": {},
   "outputs": [],
   "source": [
    "knn = KNeighborsClassifier()\n",
    "\n",
    "knn.fit(X_train, y_train)\n",
    "\n",
    "y_pred = knn.predict(X_test)\n",
    "\n",
    "acc_knn = round(accuracy_score(y_pred, y_test) * 100, 2)\n",
    "\n",
    "print(acc_knn)"
   ]
  },
  {
   "cell_type": "markdown",
   "metadata": {},
   "source": [
    "## SGDC Classifier"
   ]
  },
  {
   "cell_type": "code",
   "execution_count": null,
   "metadata": {},
   "outputs": [],
   "source": [
    "sgd = SGDClassifier()\n",
    "\n",
    "sgd.fit(X_train, y_train)\n",
    "\n",
    "y_pred = sgd.predict(X_test)\n",
    "\n",
    "acc_sgd = round(accuracy_score(y_pred, y_test) * 100, 2)\n",
    "\n",
    "print(acc_sgd)"
   ]
  },
  {
   "cell_type": "code",
   "execution_count": null,
   "metadata": {},
   "outputs": [],
   "source": [
    "importance = sgd.coef_[0]\n",
    "\n",
    "for f, i in zip(features,importance):\n",
    "        print(\"Feature: \" + f + \", Score: \" + str(i))\n",
    "# plot feature importance\n",
    "pyplot.bar([x for x in range(len(importance))], importance)\n",
    "pyplot.show()"
   ]
  },
  {
   "cell_type": "markdown",
   "metadata": {},
   "source": [
    "## Gradient Boosting Classifier"
   ]
  },
  {
   "cell_type": "code",
   "execution_count": null,
   "metadata": {},
   "outputs": [],
   "source": [
    "gbk = GradientBoostingClassifier()\n",
    "\n",
    "gbk.fit(X_train, y_train)\n",
    "\n",
    "y_pred = gbk.predict(X_test)\n",
    "\n",
    "acc_gbk = round(accuracy_score(y_pred, y_test) * 100, 2)\n",
    "\n",
    "print(acc_gbk)"
   ]
  },
  {
   "cell_type": "code",
   "execution_count": null,
   "metadata": {},
   "outputs": [],
   "source": [
    "importance = gbk.feature_importances_\n",
    "\n",
    "for f, i in zip(features,importance):\n",
    "        print(\"Feature: \" + f + \", Score: \" + str(i))\n",
    "# plot feature importance\n",
    "pyplot.bar([x for x in range(len(importance))], importance)\n",
    "pyplot.show()"
   ]
  },
  {
   "cell_type": "markdown",
   "metadata": {},
   "source": [
    "## Perceptron"
   ]
  },
  {
   "cell_type": "code",
   "execution_count": null,
   "metadata": {},
   "outputs": [],
   "source": [
    "perceptron = Perceptron()\n",
    "\n",
    "perceptron.fit(X_train, y_train)\n",
    "\n",
    "y_pred = perceptron.predict(X_test)\n",
    "\n",
    "acc_perceptron = round(accuracy_score(y_pred, y_test) * 100, 2)\n",
    "\n",
    "print(acc_perceptron)"
   ]
  },
  {
   "cell_type": "code",
   "execution_count": null,
   "metadata": {},
   "outputs": [],
   "source": [
    "importance = perceptron.coef_[0]\n",
    "\n",
    "for f, i in zip(features,importance):\n",
    "        print(\"Feature: \" + f + \", Score: \" + str(i))\n",
    "# plot feature importance\n",
    "pyplot.bar([x for x in range(len(importance))], importance)\n",
    "pyplot.show()"
   ]
  },
  {
   "cell_type": "markdown",
   "metadata": {},
   "source": [
    "## Linear SVC"
   ]
  },
  {
   "cell_type": "code",
   "execution_count": null,
   "metadata": {},
   "outputs": [],
   "source": [
    "linear_svc = LinearSVC()\n",
    "\n",
    "linear_svc.fit(X_train, y_train)\n",
    "\n",
    "y_pred = linear_svc.predict(X_test)\n",
    "\n",
    "acc_linear_svc = round(accuracy_score(y_pred, y_test) * 100, 2)\n",
    "\n",
    "print(acc_linear_svc)"
   ]
  },
  {
   "cell_type": "code",
   "execution_count": null,
   "metadata": {},
   "outputs": [],
   "source": [
    "importance = linear_svc.coef_[0]\n",
    "\n",
    "for f, i in zip(features,importance):\n",
    "        print(\"Feature: \" + f + \", Score: \" + str(i))\n",
    "# plot feature importance\n",
    "pyplot.bar([x for x in range(len(importance))], importance)\n",
    "pyplot.show()"
   ]
  },
  {
   "cell_type": "markdown",
   "metadata": {},
   "source": [
    "## Gausian NB"
   ]
  },
  {
   "cell_type": "code",
   "execution_count": null,
   "metadata": {},
   "outputs": [],
   "source": [
    "gaussian = GaussianNB()\n",
    "\n",
    "gaussian.fit(X_train, y_train)\n",
    "\n",
    "y_pred = gaussian.predict(X_test)\n",
    "\n",
    "acc_gaussian = round(accuracy_score(y_pred, y_test) * 100, 2)\n",
    "\n",
    "print(acc_gaussian)"
   ]
  },
  {
   "cell_type": "markdown",
   "metadata": {},
   "source": [
    "## SVC"
   ]
  },
  {
   "cell_type": "code",
   "execution_count": null,
   "metadata": {},
   "outputs": [],
   "source": [
    "svc = SVC()\n",
    "\n",
    "svc.fit(X_train, y_train)\n",
    "\n",
    "y_pred = svc.predict(X_test)\n",
    "\n",
    "acc_svc = round(accuracy_score(y_pred, y_test) * 100, 2)\n",
    "\n",
    "print(acc_svc)"
   ]
  },
  {
   "cell_type": "markdown",
   "metadata": {},
   "source": [
    "# Model Evaluations"
   ]
  },
  {
   "cell_type": "code",
   "execution_count": null,
   "metadata": {},
   "outputs": [],
   "source": [
    "models = pd.DataFrame({\n",
    "    'Model': ['Support Vector Machines', 'KNN', 'Logistic Regression', \n",
    "              'Random Forest', 'Naive Bayes', 'Perceptron', 'Linear SVC', \n",
    "              'Decision Tree', 'Stochastic Gradient Descent', 'Gradient Boosting Classifier'],\n",
    "    'Score': [acc_svc, acc_knn, score, \n",
    "              acc_randomforest, acc_gaussian, acc_perceptron,acc_linear_svc, acc_decisiontree,\n",
    "              acc_sgd, acc_gbk]})\n",
    "models.sort_values(by='Score', ascending=False)"
   ]
  },
  {
   "cell_type": "code",
   "execution_count": null,
   "metadata": {},
   "outputs": [],
   "source": [
    "importance = randomforest.feature_importances_\n",
    "len(importance)"
   ]
  },
  {
   "cell_type": "code",
   "execution_count": null,
   "metadata": {},
   "outputs": [],
   "source": [
    "len(features)"
   ]
  },
  {
   "cell_type": "code",
   "execution_count": null,
   "metadata": {},
   "outputs": [],
   "source": [
    "importance"
   ]
  },
  {
   "cell_type": "code",
   "execution_count": null,
   "metadata": {},
   "outputs": [],
   "source": [
    "features"
   ]
  },
  {
   "cell_type": "code",
   "execution_count": null,
   "metadata": {},
   "outputs": [],
   "source": [
    "feature_importance = pd.DataFrame({'Features':features, 'Importance':importance})"
   ]
  },
  {
   "cell_type": "code",
   "execution_count": null,
   "metadata": {},
   "outputs": [],
   "source": [
    "feature_importance.plot(figsize=(13,7),kind=\"barh\")\n",
    "plt.title(\"Random Forest Feature Importances\")\n",
    "plt.xlabel(\"Importance\")\n",
    "plt.yticks(range(0,len(features)),features)"
   ]
  },
  {
   "cell_type": "code",
   "execution_count": null,
   "metadata": {},
   "outputs": [],
   "source": []
  }
 ],
 "metadata": {
  "kernelspec": {
   "display_name": "Python 3",
   "language": "python",
   "name": "python3"
  },
  "language_info": {
   "codemirror_mode": {
    "name": "ipython",
    "version": 3
   },
   "file_extension": ".py",
   "mimetype": "text/x-python",
   "name": "python",
   "nbconvert_exporter": "python",
   "pygments_lexer": "ipython3",
   "version": "3.7.6"
  },
  "toc": {
   "base_numbering": 1,
   "nav_menu": {},
   "number_sections": true,
   "sideBar": true,
   "skip_h1_title": false,
   "title_cell": "Table of Contents",
   "title_sidebar": "Contents",
   "toc_cell": true,
   "toc_position": {},
   "toc_section_display": true,
   "toc_window_display": false
  }
 },
 "nbformat": 4,
 "nbformat_minor": 4
}
