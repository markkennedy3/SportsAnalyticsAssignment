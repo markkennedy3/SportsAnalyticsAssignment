{
 "cells": [
  {
   "cell_type": "markdown",
   "metadata": {
    "toc": true
   },
   "source": [
    "<h1>Table of Contents<span class=\"tocSkip\"></span></h1>\n",
    "<div class=\"toc\"><ul class=\"toc-item\"><li><span><a href=\"#Load-the-data\" data-toc-modified-id=\"Load-the-data-1\"><span class=\"toc-item-num\">1&nbsp;&nbsp;</span>Load the data</a></span><ul class=\"toc-item\"><li><span><a href=\"#Join-the-individual-datasets-into-one-dataframe\" data-toc-modified-id=\"Join-the-individual-datasets-into-one-dataframe-1.1\"><span class=\"toc-item-num\">1.1&nbsp;&nbsp;</span>Join the individual datasets into one dataframe</a></span></li><li><span><a href=\"#Examine-the-combined-dataset's-metadata\" data-toc-modified-id=\"Examine-the-combined-dataset's-metadata-1.2\"><span class=\"toc-item-num\">1.2&nbsp;&nbsp;</span>Examine the combined dataset's metadata</a></span></li></ul></li><li><span><a href=\"#Data-cleansing-and-preperation\" data-toc-modified-id=\"Data-cleansing-and-preperation-2\"><span class=\"toc-item-num\">2&nbsp;&nbsp;</span>Data cleansing and preperation</a></span><ul class=\"toc-item\"><li><span><a href=\"#Fix-incorrect-data-types\" data-toc-modified-id=\"Fix-incorrect-data-types-2.1\"><span class=\"toc-item-num\">2.1&nbsp;&nbsp;</span>Fix incorrect data types</a></span></li><li><span><a href=\"#Different-occurrences-of-players's-names\" data-toc-modified-id=\"Different-occurrences-of-players's-names-2.2\"><span class=\"toc-item-num\">2.2&nbsp;&nbsp;</span>Different occurrences of players's names</a></span></li><li><span><a href=\"#Create-match-year-column\" data-toc-modified-id=\"Create-match-year-column-2.3\"><span class=\"toc-item-num\">2.3&nbsp;&nbsp;</span>Create match year column</a></span><ul class=\"toc-item\"><li><span><a href=\"#Yearly-trend-of-match-winners-height\" data-toc-modified-id=\"Yearly-trend-of-match-winners-height-2.3.1\"><span class=\"toc-item-num\">2.3.1&nbsp;&nbsp;</span>Yearly trend of match winners height</a></span></li><li><span><a href=\"#Yearly-trend-of-match-length-(minutes)\" data-toc-modified-id=\"Yearly-trend-of-match-length-(minutes)-2.3.2\"><span class=\"toc-item-num\">2.3.2&nbsp;&nbsp;</span>Yearly trend of match length (minutes)</a></span></li></ul></li><li><span><a href=\"#Create-sets-played-feature\" data-toc-modified-id=\"Create-sets-played-feature-2.4\"><span class=\"toc-item-num\">2.4&nbsp;&nbsp;</span>Create sets played feature</a></span></li><li><span><a href=\"#Filter-out-any-matches-that-lasted-more-than-700-minutes\" data-toc-modified-id=\"Filter-out-any-matches-that-lasted-more-than-700-minutes-2.5\"><span class=\"toc-item-num\">2.5&nbsp;&nbsp;</span>Filter out any matches that lasted more than 700 minutes</a></span></li><li><span><a href=\"#Check-popularity-of-surfaces\" data-toc-modified-id=\"Check-popularity-of-surfaces-2.6\"><span class=\"toc-item-num\">2.6&nbsp;&nbsp;</span>Check popularity of surfaces</a></span></li><li><span><a href=\"#Fill-in-values-for-player's-hand-and-height-where-possible\" data-toc-modified-id=\"Fill-in-values-for-player's-hand-and-height-where-possible-2.7\"><span class=\"toc-item-num\">2.7&nbsp;&nbsp;</span>Fill in values for player's hand and height where possible</a></span></li></ul></li><li><span><a href=\"#Create-dataframe-for-RQ1\" data-toc-modified-id=\"Create-dataframe-for-RQ1-3\"><span class=\"toc-item-num\">3&nbsp;&nbsp;</span>Create dataframe for RQ1</a></span><ul class=\"toc-item\"><li><span><a href=\"#Select-winners-from-atp_df\" data-toc-modified-id=\"Select-winners-from-atp_df-3.1\"><span class=\"toc-item-num\">3.1&nbsp;&nbsp;</span>Select winners from atp_df</a></span></li><li><span><a href=\"#Select-losers-from-atp_df\" data-toc-modified-id=\"Select-losers-from-atp_df-3.2\"><span class=\"toc-item-num\">3.2&nbsp;&nbsp;</span>Select losers from atp_df</a></span></li><li><span><a href=\"#Join-the-winners-and-losers-dataframes\" data-toc-modified-id=\"Join-the-winners-and-losers-dataframes-3.3\"><span class=\"toc-item-num\">3.3&nbsp;&nbsp;</span>Join the winners and losers dataframes</a></span></li><li><span><a href=\"#Feature-engineering\" data-toc-modified-id=\"Feature-engineering-3.4\"><span class=\"toc-item-num\">3.4&nbsp;&nbsp;</span>Feature engineering</a></span></li><li><span><a href=\"#Aggregate-each-players-statistics\" data-toc-modified-id=\"Aggregate-each-players-statistics-3.5\"><span class=\"toc-item-num\">3.5&nbsp;&nbsp;</span>Aggregate each players statistics</a></span></li><li><span><a href=\"#Filter-out-any-player-who-has-not-played-at-least-100-matches\" data-toc-modified-id=\"Filter-out-any-player-who-has-not-played-at-least-100-matches-3.6\"><span class=\"toc-item-num\">3.6&nbsp;&nbsp;</span>Filter out any player who has not played at least 100 matches</a></span></li><li><span><a href=\"#Create-new-metrics\" data-toc-modified-id=\"Create-new-metrics-3.7\"><span class=\"toc-item-num\">3.7&nbsp;&nbsp;</span>Create new metrics</a></span></li><li><span><a href=\"#Save-dataframe\" data-toc-modified-id=\"Save-dataframe-3.8\"><span class=\"toc-item-num\">3.8&nbsp;&nbsp;</span>Save dataframe</a></span></li></ul></li><li><span><a href=\"#Create-dataframe-for-RQ2\" data-toc-modified-id=\"Create-dataframe-for-RQ2-4\"><span class=\"toc-item-num\">4&nbsp;&nbsp;</span>Create dataframe for RQ2</a></span><ul class=\"toc-item\"><li><span><a href=\"#Create-database-of-all-players-who-have-played-either-of-the-big-3-players\" data-toc-modified-id=\"Create-database-of-all-players-who-have-played-either-of-the-big-3-players-4.1\"><span class=\"toc-item-num\">4.1&nbsp;&nbsp;</span>Create database of all players who have played either of the big 3 players</a></span></li><li><span><a href=\"#Games-where-the-Top3-won\" data-toc-modified-id=\"Games-where-the-Top3-won-4.2\"><span class=\"toc-item-num\">4.2&nbsp;&nbsp;</span>Games where the Top3 won</a></span></li><li><span><a href=\"#Fix-any-NaNs-and-Infs-caused-by-division-by/of-zero\" data-toc-modified-id=\"Fix-any-NaNs-and-Infs-caused-by-division-by/of-zero-4.3\"><span class=\"toc-item-num\">4.3&nbsp;&nbsp;</span>Fix any NaNs and Infs caused by division by/of zero</a></span></li><li><span><a href=\"#Games-where-the-Top3-Lost\" data-toc-modified-id=\"Games-where-the-Top3-Lost-4.4\"><span class=\"toc-item-num\">4.4&nbsp;&nbsp;</span>Games where the Top3 Lost</a></span></li><li><span><a href=\"#Fix-any-NaNs-and-Infs-caused-by-division-by/of-zero\" data-toc-modified-id=\"Fix-any-NaNs-and-Infs-caused-by-division-by/of-zero-4.5\"><span class=\"toc-item-num\">4.5&nbsp;&nbsp;</span>Fix any NaNs and Infs caused by division by/of zero</a></span></li><li><span><a href=\"#Create-a-combined-database-of-50%-players-who-lost-to-the-big-3-and-50%-who-beat-either-of-the-big-3\" data-toc-modified-id=\"Create-a-combined-database-of-50%-players-who-lost-to-the-big-3-and-50%-who-beat-either-of-the-big-3-4.6\"><span class=\"toc-item-num\">4.6&nbsp;&nbsp;</span>Create a combined database of 50% players who lost to the big 3 and 50% who beat either of the big 3</a></span></li><li><span><a href=\"#Covert-win-column-to-string-for-prediction-models-in-RQ2\" data-toc-modified-id=\"Covert-win-column-to-string-for-prediction-models-in-RQ2-4.7\"><span class=\"toc-item-num\">4.7&nbsp;&nbsp;</span>Covert win column to string for prediction models in RQ2</a></span></li><li><span><a href=\"#Save-dataframe\" data-toc-modified-id=\"Save-dataframe-4.8\"><span class=\"toc-item-num\">4.8&nbsp;&nbsp;</span>Save dataframe</a></span></li></ul></li></ul></div>"
   ]
  },
  {
   "cell_type": "markdown",
   "metadata": {},
   "source": [
    "# Load the data"
   ]
  },
  {
   "cell_type": "code",
   "execution_count": null,
   "metadata": {
    "scrolled": true
   },
   "outputs": [],
   "source": [
    "import pandas as pd\n",
    "import numpy as np\n",
    "import matplotlib.pyplot as plt\n",
    "import warnings\n",
    "warnings.filterwarnings('ignore')"
   ]
  },
  {
   "cell_type": "code",
   "execution_count": null,
   "metadata": {
    "scrolled": true
   },
   "outputs": [],
   "source": [
    "plt.rcParams['text.color'] = 'k'\n",
    "plt.rcParams['axes.labelcolor'] = 'k'\n",
    "plt.rcParams['axes.titlesize'] = 24\n",
    "plt.rcParams['axes.labelsize'] = 24\n",
    "plt.rcParams['ytick.labelsize'] = 15\n",
    "plt.rcParams['xtick.labelsize'] = 15\n",
    "plt.rcParams['axes.grid'] = True\n",
    "plt.rcParams['lines.markersize'] = 15\n",
    "plt.rcParams['lines.markeredgewidth'] = 1\n",
    "plt.rcParams['lines.linewidth'] = 2\n",
    "plt.rcParams['legend.fontsize'] = 12"
   ]
  },
  {
   "cell_type": "code",
   "execution_count": null,
   "metadata": {
    "scrolled": true
   },
   "outputs": [],
   "source": [
    "atp2000 = pd.read_csv('archive/2000.csv')\n",
    "atp2001 = pd.read_csv('archive/2001.csv')\n",
    "atp2002 = pd.read_csv('archive/2002.csv')\n",
    "atp2003 = pd.read_csv('archive/2003.csv')\n",
    "atp2004 = pd.read_csv('archive/2004.csv')\n",
    "atp2005 = pd.read_csv('archive/2005.csv')\n",
    "atp2006 = pd.read_csv('archive/2006.csv')\n",
    "atp2007 = pd.read_csv('archive/2007.csv')\n",
    "atp2008 = pd.read_csv('archive/2008.csv')\n",
    "atp2009 = pd.read_csv('archive/2009.csv')\n",
    "atp2010 = pd.read_csv('archive/2010.csv')\n",
    "atp2011 = pd.read_csv('archive/2011.csv')\n",
    "atp2012 = pd.read_csv('archive/2012.csv')\n",
    "atp2013 = pd.read_csv('archive/2013.csv')\n",
    "atp2014 = pd.read_csv('archive/2014.csv')\n",
    "atp2015 = pd.read_csv('archive/2015.csv')\n",
    "atp2016 = pd.read_csv('archive/2016.csv')\n",
    "atp2017 = pd.read_csv('archive/2017.csv')\n",
    "atp2018 = pd.read_csv('archive/2018.csv')\n",
    "atp2019 = pd.read_csv('archive/2019.csv')\n",
    "atp2020 = pd.read_csv('archive/2020.csv')\n",
    "atp2021 = pd.read_csv('archive/2021.csv')"
   ]
  },
  {
   "cell_type": "markdown",
   "metadata": {},
   "source": [
    "## Join the individual datasets into one dataframe"
   ]
  },
  {
   "cell_type": "code",
   "execution_count": null,
   "metadata": {
    "scrolled": true
   },
   "outputs": [],
   "source": [
    "yearly_data = [atp2000,atp2001,atp2002,atp2003,atp2004,atp2005,atp2006,atp2007,atp2008,atp2009,atp2010,\n",
    "               atp2011,atp2012,atp2013,atp2014,atp2015,atp2016,atp2017,atp2018,atp2019,atp2020,atp2021]"
   ]
  },
  {
   "cell_type": "code",
   "execution_count": null,
   "metadata": {
    "scrolled": true
   },
   "outputs": [],
   "source": [
    "atp_df = pd.concat(yearly_data, ignore_index=True)\n",
    "atp_df.head(5)"
   ]
  },
  {
   "cell_type": "markdown",
   "metadata": {},
   "source": [
    "## Examine the combined dataset's metadata"
   ]
  },
  {
   "cell_type": "code",
   "execution_count": null,
   "metadata": {
    "scrolled": true
   },
   "outputs": [],
   "source": [
    "atp_df.shape"
   ]
  },
  {
   "cell_type": "code",
   "execution_count": null,
   "metadata": {
    "scrolled": true
   },
   "outputs": [],
   "source": [
    "atp_df.isnull().sum()"
   ]
  },
  {
   "cell_type": "code",
   "execution_count": null,
   "metadata": {
    "scrolled": true
   },
   "outputs": [],
   "source": [
    "atp_df.dtypes"
   ]
  },
  {
   "cell_type": "markdown",
   "metadata": {},
   "source": [
    "# Data cleansing and preperation"
   ]
  },
  {
   "cell_type": "code",
   "execution_count": null,
   "metadata": {
    "scrolled": true
   },
   "outputs": [],
   "source": [
    "len(atp_df)"
   ]
  },
  {
   "cell_type": "markdown",
   "metadata": {},
   "source": [
    "## Fix incorrect data types"
   ]
  },
  {
   "cell_type": "code",
   "execution_count": null,
   "metadata": {
    "scrolled": true
   },
   "outputs": [],
   "source": [
    "atp_df['loser_ht'] = pd.to_numeric(atp_df['loser_ht'], errors='coerce')\n",
    "atp_df['l_bpFaced'] = pd.to_numeric(atp_df['l_bpFaced'], errors='coerce')"
   ]
  },
  {
   "cell_type": "markdown",
   "metadata": {},
   "source": [
    "## Different occurrences of players's names "
   ]
  },
  {
   "cell_type": "code",
   "execution_count": null,
   "metadata": {
    "scrolled": true
   },
   "outputs": [],
   "source": [
    "atp_df[atp_df['winner_name'].str.contains('Roger')]['winner_name'].unique()"
   ]
  },
  {
   "cell_type": "code",
   "execution_count": null,
   "metadata": {
    "scrolled": true
   },
   "outputs": [],
   "source": [
    "atp_df[atp_df['loser_name'].str.contains('Roger')]['loser_name'].unique()"
   ]
  },
  {
   "cell_type": "markdown",
   "metadata": {},
   "source": [
    "## Create match year column"
   ]
  },
  {
   "cell_type": "code",
   "execution_count": null,
   "metadata": {
    "scrolled": true
   },
   "outputs": [],
   "source": [
    "atp_df['match_year'] = atp_df['tourney_id'].str.split('-').str[0] "
   ]
  },
  {
   "cell_type": "markdown",
   "metadata": {},
   "source": [
    "### Yearly trend of match winners height"
   ]
  },
  {
   "cell_type": "code",
   "execution_count": null,
   "metadata": {
    "scrolled": true
   },
   "outputs": [],
   "source": [
    "fig, ax = plt.subplots(figsize=(15,7))\n",
    "atp_df.groupby('match_year')['winner_ht'].mean().plot(ax=ax,color='blue')\n",
    "ax.set_title('Average Winner Height') \n",
    "plt.xlabel('Year')\n",
    "plt.ylabel('Height')\n",
    "plt.show()"
   ]
  },
  {
   "cell_type": "markdown",
   "metadata": {},
   "source": [
    "### Yearly trend of match length (minutes)"
   ]
  },
  {
   "cell_type": "code",
   "execution_count": null,
   "metadata": {
    "scrolled": true
   },
   "outputs": [],
   "source": [
    "atp_df.groupby('match_year')['minutes'].mean()"
   ]
  },
  {
   "cell_type": "code",
   "execution_count": null,
   "metadata": {
    "scrolled": true
   },
   "outputs": [],
   "source": [
    "fig, ax = plt.subplots(figsize=(15,7))\n",
    "atp_df.groupby('match_year')['minutes'].mean().plot(ax=ax,color='blue')\n",
    "ax.set_title('Average Match Length') \n",
    "plt.xlabel('Year')\n",
    "plt.ylabel('Minutes')\n",
    "plt.show()"
   ]
  },
  {
   "cell_type": "code",
   "execution_count": null,
   "metadata": {
    "scrolled": true
   },
   "outputs": [],
   "source": [
    "atp_df.loc[atp_df['match_year']=='2000']['minutes'].mean()"
   ]
  },
  {
   "cell_type": "code",
   "execution_count": null,
   "metadata": {
    "scrolled": true
   },
   "outputs": [],
   "source": [
    "atp_df.loc[atp_df['match_year']=='2020']['minutes'].mean()"
   ]
  },
  {
   "cell_type": "code",
   "execution_count": null,
   "metadata": {
    "scrolled": true
   },
   "outputs": [],
   "source": [
    "fig, ax = plt.subplots(figsize=(15,7))\n",
    "atp_df['minutes'].hist(bins=40)"
   ]
  },
  {
   "cell_type": "code",
   "execution_count": null,
   "metadata": {
    "scrolled": true
   },
   "outputs": [],
   "source": [
    "atp_df['minutes'].max()"
   ]
  },
  {
   "cell_type": "code",
   "execution_count": null,
   "metadata": {
    "scrolled": true
   },
   "outputs": [],
   "source": [
    "atp_df.loc[atp_df['minutes']>1200][['tourney_name','winner_name','loser_name','score','minutes']]"
   ]
  },
  {
   "cell_type": "markdown",
   "metadata": {},
   "source": [
    "## Create sets played feature"
   ]
  },
  {
   "cell_type": "code",
   "execution_count": null,
   "metadata": {
    "scrolled": true
   },
   "outputs": [],
   "source": [
    "atp_df[['score','w_SvGms','l_SvGms']].head(5)"
   ]
  },
  {
   "cell_type": "code",
   "execution_count": null,
   "metadata": {
    "scrolled": true
   },
   "outputs": [],
   "source": [
    "atp_df['sets_played'] = atp_df['score'].str.count(\"-\")"
   ]
  },
  {
   "cell_type": "code",
   "execution_count": null,
   "metadata": {
    "scrolled": true
   },
   "outputs": [],
   "source": [
    "atp_df.loc[atp_df['w_svpt']>450][['score','sets_played']]"
   ]
  },
  {
   "cell_type": "code",
   "execution_count": null,
   "metadata": {
    "scrolled": true
   },
   "outputs": [],
   "source": [
    "atp_df.iloc[34071][['tourney_name','winner_name','loser_name','w_svpt','l_svpt','score','minutes']]"
   ]
  },
  {
   "cell_type": "markdown",
   "metadata": {},
   "source": [
    "Longest tennis match in history: https://en.wikipedia.org/wiki/Isner%E2%80%93Mahut_match_at_the_2010_Wimbledon_Championship"
   ]
  },
  {
   "cell_type": "markdown",
   "metadata": {},
   "source": [
    "## Filter out any matches that lasted more than 700 minutes"
   ]
  },
  {
   "cell_type": "code",
   "execution_count": null,
   "metadata": {
    "scrolled": true
   },
   "outputs": [],
   "source": [
    "atp_df = atp_df.loc[atp_df['minutes']<700]"
   ]
  },
  {
   "cell_type": "markdown",
   "metadata": {},
   "source": [
    "## Check popularity of surfaces"
   ]
  },
  {
   "cell_type": "code",
   "execution_count": null,
   "metadata": {
    "scrolled": true
   },
   "outputs": [],
   "source": [
    "atp_df['surface'].value_counts()"
   ]
  },
  {
   "cell_type": "code",
   "execution_count": null,
   "metadata": {
    "scrolled": true
   },
   "outputs": [],
   "source": [
    "atp_df.loc[atp_df['surface']=='Carpet']['match_year'].unique()"
   ]
  },
  {
   "cell_type": "code",
   "execution_count": null,
   "metadata": {
    "scrolled": true
   },
   "outputs": [],
   "source": [
    "carpret_df = atp_df.loc[atp_df['surface']=='Carpet']\n",
    "fig, ax = plt.subplots(figsize=(15,7))\n",
    "carpret_df.groupby('match_year')['tourney_id'].count().plot(ax=ax,color='blue')\n",
    "ax.set_title('Number of matches played on carpet') \n",
    "plt.xlabel('Year')\n",
    "plt.ylabel('Matches')\n",
    "plt.show()"
   ]
  },
  {
   "cell_type": "markdown",
   "metadata": {},
   "source": [
    "As we can see the carpet surface has become uncommon in the last decade, and so I will remove any matches played on that surface from the dataframe."
   ]
  },
  {
   "cell_type": "code",
   "execution_count": null,
   "metadata": {
    "scrolled": true
   },
   "outputs": [],
   "source": [
    "surfaces = ['Hard','Clay','Grass']\n",
    "atp_df = atp_df.loc[atp_df['surface'].isin(surfaces)]"
   ]
  },
  {
   "cell_type": "markdown",
   "metadata": {},
   "source": [
    "## Fill in values for player's hand and height where possible"
   ]
  },
  {
   "cell_type": "code",
   "execution_count": null,
   "metadata": {
    "scrolled": true
   },
   "outputs": [],
   "source": [
    "winners_features_df = atp_df[atp_df[['winner_name','winner_hand','winner_ht']].notnull()][['winner_name','winner_hand','winner_ht']]\n",
    "winners_features_df = winners_features_df.drop_duplicates()\n",
    "winners_features_df = winners_features_df[~winners_features_df.isin([np.nan, np.inf, -np.inf]).any(1)]\n",
    "winners_features_df.columns = ['player','hand','height']\n",
    "winners_features_df.head(5)"
   ]
  },
  {
   "cell_type": "code",
   "execution_count": null,
   "metadata": {
    "scrolled": true
   },
   "outputs": [],
   "source": [
    "losers_features_df = atp_df[atp_df[['loser_name','loser_hand','loser_ht']].notnull()][['loser_name','loser_hand','loser_ht']]\n",
    "losers_features_df = losers_features_df.drop_duplicates()\n",
    "losers_features_df = losers_features_df[~losers_features_df.isin([np.nan, np.inf, -np.inf]).any(1)]\n",
    "losers_features_df.columns = ['player','hand','height']\n",
    "losers_features_df.head(5)"
   ]
  },
  {
   "cell_type": "code",
   "execution_count": null,
   "metadata": {
    "scrolled": true
   },
   "outputs": [],
   "source": [
    "players_features_df = pd.concat([winners_features_df,losers_features_df], ignore_index=True)\n",
    "players_features_df = players_features_df.drop_duplicates()\n",
    "players_features_df = players_features_df.set_index('player')\n",
    "players_hand_dict = players_features_df['hand'].to_dict()\n",
    "players_height_dict = players_features_df['height'].to_dict()\n",
    "players_features_df.head(5)"
   ]
  },
  {
   "cell_type": "code",
   "execution_count": null,
   "metadata": {
    "scrolled": true
   },
   "outputs": [],
   "source": [
    "players_features_df['hand'].unique()"
   ]
  },
  {
   "cell_type": "code",
   "execution_count": null,
   "metadata": {
    "scrolled": true
   },
   "outputs": [],
   "source": [
    "players_features_df.groupby('hand')['hand'].count()"
   ]
  },
  {
   "cell_type": "code",
   "execution_count": null,
   "metadata": {
    "scrolled": true
   },
   "outputs": [],
   "source": [
    "players_features_df.groupby('hand')['hand'].count()/len(players_features_df)"
   ]
  },
  {
   "cell_type": "code",
   "execution_count": null,
   "metadata": {
    "scrolled": true
   },
   "outputs": [],
   "source": [
    "players_features_df.loc[players_features_df['hand']=='U']"
   ]
  },
  {
   "cell_type": "code",
   "execution_count": null,
   "metadata": {
    "scrolled": true
   },
   "outputs": [],
   "source": [
    "len(atp_df)"
   ]
  },
  {
   "cell_type": "markdown",
   "metadata": {},
   "source": [
    "# Create dataframe for RQ1 "
   ]
  },
  {
   "cell_type": "markdown",
   "metadata": {},
   "source": [
    "## Select winners from atp_df"
   ]
  },
  {
   "cell_type": "code",
   "execution_count": null,
   "metadata": {
    "scrolled": true
   },
   "outputs": [],
   "source": [
    "winners_df = atp_df[['tourney_name','surface','winner_name','winner_hand','winner_ht','score', 'best_of','minutes',\n",
    "                     'w_ace','w_df','w_svpt','w_1stIn','w_1stWon','w_2ndWon','w_SvGms','w_bpSaved','w_bpFaced',\n",
    "                     'l_ace','l_df','l_svpt','l_1stIn','l_1stWon','l_2ndWon','l_SvGms','l_bpSaved','l_bpFaced','l_SvGms']]\n",
    "\n",
    "winners_df.columns = ['tourney_name','surface','player','hand','height','score', 'best_of','minutes',\n",
    "                      'ace','df','svpt','1stIn','1stWon','2ndWon','games_served','bpSaved','bpFaced','l_ace','l_df',\n",
    "                      'l_svpt','l_1stIn','l_1stWon','l_2ndWon','l_SvGms','l_bpSaved','l_bpFaced','games_received']"
   ]
  },
  {
   "cell_type": "code",
   "execution_count": null,
   "metadata": {
    "scrolled": true
   },
   "outputs": [],
   "source": [
    "winners_df.loc[winners_df['hand'].isnull(), 'hand'] = winners_df['player'].map(players_hand_dict)\n",
    "winners_df.loc[winners_df['height'].isnull(), 'height'] = winners_df['player'].map(players_height_dict)"
   ]
  },
  {
   "cell_type": "code",
   "execution_count": null,
   "metadata": {
    "scrolled": true
   },
   "outputs": [],
   "source": [
    "winners_df['matches_won'] = 1\n",
    "winners_df['matches_played'] = 1\n",
    "winners_df['totalLost'] = winners_df['svpt'] - winners_df['1stWon'] - winners_df['2ndWon']\n",
    "winners_df['1stFaults'] = winners_df['svpt'] - winners_df['1stIn']\n",
    "winners_df['1stLost'] = winners_df['1stIn'] - winners_df['1stWon']\n",
    "winners_df['2ndServes'] = winners_df['1stFaults']\n",
    "winners_df['2ndIn'] = winners_df['2ndServes'] - winners_df['df']\n",
    "winners_df['2ndLost'] = winners_df['2ndServes'] - winners_df['2ndWon']\n",
    "winners_df['Op_1stLost'] = winners_df['l_1stIn'] - winners_df['l_1stWon']\n",
    "winners_df['1stInsReceived'] = winners_df['l_1stIn']\n",
    "winners_df['1stInsReceived_won'] = winners_df['l_1stIn'] - winners_df['l_1stWon']\n",
    "winners_df['2ndServesReceived'] = winners_df['l_svpt'] - winners_df['l_1stWon'] - winners_df['Op_1stLost']\n",
    "winners_df['2ndInsReceived'] = winners_df['2ndServesReceived'] - winners_df['l_df']\n",
    "winners_df['2ndInsReceived_won'] = winners_df['2ndInsReceived'] - winners_df['l_2ndWon']\n",
    "winners_df['bpChallenged'] = winners_df['l_bpFaced']\n",
    "winners_df['bpWon'] = winners_df['l_bpFaced'] - winners_df['l_bpSaved']\n",
    "winners_df.head()"
   ]
  },
  {
   "cell_type": "markdown",
   "metadata": {},
   "source": [
    "## Select losers from atp_df"
   ]
  },
  {
   "cell_type": "code",
   "execution_count": null,
   "metadata": {
    "scrolled": true
   },
   "outputs": [],
   "source": [
    "losers_df = atp_df[['tourney_name','surface','loser_name','loser_hand','loser_ht','score', 'best_of','minutes',\n",
    "                    'l_ace','l_df','l_svpt','l_1stIn','l_1stWon','l_2ndWon','l_SvGms','l_bpSaved','l_bpFaced',\n",
    "                    'w_ace','w_df','w_svpt','w_1stIn','w_1stWon','w_2ndWon','w_SvGms','w_bpSaved','w_bpFaced','w_SvGms']]\n",
    "\n",
    "losers_df.columns = ['tourney_name','surface','player','hand','height','score', 'best_of','minutes',\n",
    "                     'ace','df','svpt','1stIn','1stWon','2ndWon','games_served','bpSaved','bpFaced','w_ace',\n",
    "                     'w_df','w_svpt','w_1stIn','w_1stWon','w_2ndWon','w_SvGms','w_bpSaved','w_bpFaced','games_received']"
   ]
  },
  {
   "cell_type": "code",
   "execution_count": null,
   "metadata": {
    "scrolled": true
   },
   "outputs": [],
   "source": [
    "losers_df.loc[losers_df['hand'].isnull(), 'hand'] = losers_df['player'].map(players_hand_dict)\n",
    "losers_df.loc[losers_df['height'].isnull(), 'height'] = losers_df['player'].map(players_height_dict)"
   ]
  },
  {
   "cell_type": "code",
   "execution_count": null,
   "metadata": {
    "scrolled": true
   },
   "outputs": [],
   "source": [
    "losers_df['matches_won'] = 0\n",
    "losers_df['matches_played'] = 1\n",
    "losers_df['totalLost'] = losers_df['svpt'] - losers_df['1stWon'] - losers_df['2ndWon']\n",
    "losers_df['1stFaults'] = losers_df['svpt'] - losers_df['1stIn']\n",
    "losers_df['1stLost'] = losers_df['1stIn'] - losers_df['1stWon']\n",
    "losers_df['2ndServes'] = losers_df['1stFaults']\n",
    "losers_df['2ndIn'] = losers_df['2ndServes'] - losers_df['df']\n",
    "losers_df['2ndLost'] = losers_df['2ndServes'] - losers_df['2ndWon']\n",
    "losers_df['Op_1stLost'] = losers_df['w_1stIn'] - losers_df['w_1stWon']\n",
    "losers_df['1stInsReceived'] = losers_df['w_1stIn']\n",
    "losers_df['1stInsReceived_won'] = losers_df['w_1stIn'] - losers_df['w_1stWon']\n",
    "losers_df['2ndServesReceived'] = losers_df['w_svpt'] - losers_df['w_1stWon'] - losers_df['Op_1stLost']\n",
    "losers_df['2ndInsReceived'] = losers_df['2ndServesReceived'] - losers_df['w_df']\n",
    "losers_df['2ndInsReceived_won'] = losers_df['2ndInsReceived'] - losers_df['w_2ndWon']\n",
    "losers_df['bpChallenged'] = losers_df['w_bpFaced']\n",
    "losers_df['bpWon'] = losers_df['w_bpFaced'] - losers_df['w_bpSaved']"
   ]
  },
  {
   "cell_type": "code",
   "execution_count": null,
   "metadata": {
    "scrolled": true
   },
   "outputs": [],
   "source": [
    "losers_df.head()"
   ]
  },
  {
   "cell_type": "markdown",
   "metadata": {},
   "source": [
    "## Join the winners and losers dataframes"
   ]
  },
  {
   "cell_type": "code",
   "execution_count": null,
   "metadata": {
    "scrolled": true
   },
   "outputs": [],
   "source": [
    "players_df = pd.concat([winners_df,losers_df], ignore_index=True)\n",
    "players_df.shape"
   ]
  },
  {
   "cell_type": "code",
   "execution_count": null,
   "metadata": {
    "scrolled": true
   },
   "outputs": [],
   "source": [
    "players_df.isnull().sum()"
   ]
  },
  {
   "cell_type": "markdown",
   "metadata": {},
   "source": [
    "## Feature engineering"
   ]
  },
  {
   "cell_type": "code",
   "execution_count": null,
   "metadata": {
    "scrolled": true
   },
   "outputs": [],
   "source": [
    "players_stats_df = players_df[['player','hand','height','ace','df','svpt','totalLost','1stIn','1stWon','1stLost','1stFaults','2ndServes','2ndIn','2ndWon','2ndLost','bpSaved','bpFaced','games_served','games_received','1stInsReceived','1stInsReceived_won','2ndServesReceived','2ndInsReceived','2ndInsReceived_won','bpChallenged','bpWon','matches_played','matches_won']]\n",
    "players_stats_df = players_stats_df[~players_stats_df.isin([np.nan, np.inf, -np.inf]).any(1)]\n",
    "players_stats_df.shape"
   ]
  },
  {
   "cell_type": "code",
   "execution_count": null,
   "metadata": {
    "scrolled": true
   },
   "outputs": [],
   "source": [
    "players_stats_df.dtypes"
   ]
  },
  {
   "cell_type": "code",
   "execution_count": null,
   "metadata": {
    "scrolled": true
   },
   "outputs": [],
   "source": [
    "players_stats_df['height'] = pd.to_numeric(players_stats_df['height'], errors='coerce')\n",
    "players_stats_df.head(5)"
   ]
  },
  {
   "cell_type": "markdown",
   "metadata": {},
   "source": [
    "## Aggregate each players statistics"
   ]
  },
  {
   "cell_type": "code",
   "execution_count": null,
   "metadata": {
    "scrolled": true
   },
   "outputs": [],
   "source": [
    "aggregation_functions = {'hand':'first','height':'mean' ,'ace': 'sum', 'df': 'sum', 'svpt': 'sum', 'totalLost': 'sum', '1stIn': 'sum', '1stWon': 'sum', '1stLost': 'sum', '1stFaults':'sum' , '2ndServes': 'sum', '2ndIn': 'sum', '2ndWon': 'sum', '2ndLost': 'sum', 'bpSaved': 'sum', 'bpFaced': 'sum', 'matches_played' : 'sum', 'games_served': 'sum', 'games_received': 'sum', 'matches_played': 'sum', 'games_received': 'sum','1stInsReceived':'sum','1stInsReceived_won': 'sum','2ndServesReceived': 'sum','2ndInsReceived': 'sum','2ndInsReceived_won': 'sum', 'bpChallenged':'sum', 'bpWon':'sum' , 'matches_won': 'sum'}\n",
    "players_aggstats_df = players_stats_df.groupby(players_stats_df['player']).aggregate(aggregation_functions)\n",
    "players_aggstats_df.head(5)"
   ]
  },
  {
   "cell_type": "code",
   "execution_count": null,
   "metadata": {
    "scrolled": true
   },
   "outputs": [],
   "source": [
    "players_aggstats_df.groupby('hand')['hand'].count()"
   ]
  },
  {
   "cell_type": "code",
   "execution_count": null,
   "metadata": {
    "scrolled": true
   },
   "outputs": [],
   "source": [
    "players_aggstats_df.sort_values('matches_played', ascending=False).head(10)"
   ]
  },
  {
   "cell_type": "code",
   "execution_count": null,
   "metadata": {
    "scrolled": true
   },
   "outputs": [],
   "source": [
    "fig, ax = plt.subplots(figsize=(15,7))\n",
    "players_aggstats_df['matches_played'].hist(bins=40)"
   ]
  },
  {
   "cell_type": "code",
   "execution_count": null,
   "metadata": {
    "scrolled": true
   },
   "outputs": [],
   "source": [
    "players_aggstats_df = players_aggstats_df.loc[players_aggstats_df['matches_played']>=100]"
   ]
  },
  {
   "cell_type": "markdown",
   "metadata": {},
   "source": [
    "## Filter out any player who has not played at least 100 matches"
   ]
  },
  {
   "cell_type": "markdown",
   "metadata": {},
   "source": [
    "## Create new metrics"
   ]
  },
  {
   "cell_type": "code",
   "execution_count": null,
   "metadata": {
    "scrolled": true
   },
   "outputs": [],
   "source": [
    "players_aggstats_df['aces_per_game_served'] = players_aggstats_df['ace']/players_aggstats_df['games_served']\n",
    "players_aggstats_df['aces_per_total_serves'] = players_aggstats_df['ace']/players_aggstats_df['svpt']\n",
    "players_aggstats_df['doublefaults_per_game_served'] = players_aggstats_df['df']/players_aggstats_df['games_served']\n",
    "players_aggstats_df['doublefaults_per_points_lost'] = players_aggstats_df['df']/players_aggstats_df['totalLost']\n",
    "players_aggstats_df['doublefaults_per_2nd_serves'] = players_aggstats_df['df']/players_aggstats_df['2ndServes']\n",
    "players_aggstats_df['doublefaults_per_2nd_lost'] = players_aggstats_df['df']/players_aggstats_df['2ndLost']\n",
    "players_aggstats_df['1stIn_per_total_serves'] = players_aggstats_df['1stIn']/players_aggstats_df['svpt']\n",
    "players_aggstats_df['1stfault_per_1stserves'] = players_aggstats_df['1stFaults']/players_aggstats_df['svpt']\n",
    "players_aggstats_df['1stWon_per_game_served'] = players_aggstats_df['1stWon']/players_aggstats_df['games_served']\n",
    "players_aggstats_df['1stWon_per_total1stserves'] = players_aggstats_df['1stWon']/players_aggstats_df['svpt']\n",
    "players_aggstats_df['1stWon_per_1stIns'] = players_aggstats_df['1stWon']/players_aggstats_df['1stIn']\n",
    "players_aggstats_df['2ndserves_per_totalserves'] = players_aggstats_df['2ndServes']/players_aggstats_df['svpt']\n",
    "players_aggstats_df['2ndIn_per_total2ndserves'] = players_aggstats_df['1stIn']/players_aggstats_df['svpt']\n",
    "players_aggstats_df['2ndWon_per_total2ndserves'] = players_aggstats_df['2ndWon']/players_aggstats_df['2ndServes']\n",
    "players_aggstats_df['2ndWon_per_2ndIn'] = players_aggstats_df['2ndWon']/players_aggstats_df['2ndIn']\n",
    "players_aggstats_df['bpFaced_per_game_served'] = players_aggstats_df['bpFaced']/players_aggstats_df['svpt']\n",
    "players_aggstats_df['bpSaved_per_bpFaced'] = players_aggstats_df['bpSaved']/players_aggstats_df['bpFaced']\n",
    "players_aggstats_df['1stInsReceivedWon_per_received'] = players_aggstats_df['1stInsReceived_won']/players_aggstats_df['1stInsReceived']\n",
    "players_aggstats_df['2ndInsReceivedWon_per_received'] = players_aggstats_df['2ndInsReceived_won']/players_aggstats_df['2ndInsReceived']\n",
    "players_aggstats_df['bpChallenged_per_games_received'] = players_aggstats_df['bpChallenged']/players_aggstats_df['games_served']\n",
    "players_aggstats_df['bpWon_per_bpChallenged'] = players_aggstats_df['bpWon']/players_aggstats_df['bpChallenged']\n",
    "players_aggstats_df['win_rate'] = players_aggstats_df['matches_won']/players_aggstats_df['matches_played']"
   ]
  },
  {
   "cell_type": "code",
   "execution_count": null,
   "metadata": {
    "scrolled": true
   },
   "outputs": [],
   "source": [
    "players_aggstats_df = players_aggstats_df[['hand','height','aces_per_game_served','aces_per_total_serves','doublefaults_per_game_served','doublefaults_per_points_lost','doublefaults_per_2nd_serves','doublefaults_per_2nd_lost','1stIn_per_total_serves',\n",
    "                                          '1stWon_per_total1stserves','1stfault_per_1stserves','1stWon_per_game_served','1stWon_per_1stIns','2ndserves_per_totalserves','2ndIn_per_total2ndserves','2ndWon_per_total2ndserves','2ndWon_per_2ndIn',\n",
    "                                           'bpFaced_per_game_served','bpSaved_per_bpFaced','1stInsReceivedWon_per_received','2ndInsReceivedWon_per_received','bpChallenged_per_games_received','bpWon_per_bpChallenged','win_rate']]\n",
    "players_aggstats_df.sort_values('win_rate', ascending=False).head(5)"
   ]
  },
  {
   "cell_type": "code",
   "execution_count": null,
   "metadata": {
    "scrolled": true
   },
   "outputs": [],
   "source": [
    "players_aggstats_df['win_rate'].isnull().sum()"
   ]
  },
  {
   "cell_type": "code",
   "execution_count": null,
   "metadata": {
    "scrolled": true
   },
   "outputs": [],
   "source": [
    "players_aggstats_df['win_rate'].mean()"
   ]
  },
  {
   "cell_type": "code",
   "execution_count": null,
   "metadata": {
    "scrolled": true
   },
   "outputs": [],
   "source": [
    "players_aggstats_df.shape"
   ]
  },
  {
   "cell_type": "code",
   "execution_count": null,
   "metadata": {
    "scrolled": false
   },
   "outputs": [],
   "source": [
    "players_aggstats_df.isnull().sum()"
   ]
  },
  {
   "cell_type": "markdown",
   "metadata": {},
   "source": [
    "## Save dataframe"
   ]
  },
  {
   "cell_type": "code",
   "execution_count": null,
   "metadata": {
    "scrolled": true
   },
   "outputs": [],
   "source": [
    "players_aggstats_df.to_csv('RQ1_df.csv')"
   ]
  },
  {
   "cell_type": "code",
   "execution_count": null,
   "metadata": {
    "scrolled": true
   },
   "outputs": [],
   "source": [
    "players_aggstats_df.corr(method ='pearson')[['aces_per_game_served','aces_per_total_serves','win_rate']].head(1)"
   ]
  },
  {
   "cell_type": "code",
   "execution_count": null,
   "metadata": {
    "scrolled": true
   },
   "outputs": [],
   "source": [
    "players_aggstats_df.corr(method ='pearson')['win_rate']"
   ]
  },
  {
   "cell_type": "markdown",
   "metadata": {},
   "source": [
    "# Create dataframe for RQ2"
   ]
  },
  {
   "cell_type": "markdown",
   "metadata": {},
   "source": [
    "## Create database of all players who have played either of the big 3 players"
   ]
  },
  {
   "cell_type": "markdown",
   "metadata": {},
   "source": [
    "## Games where the Top3 won"
   ]
  },
  {
   "cell_type": "code",
   "execution_count": null,
   "metadata": {
    "scrolled": true
   },
   "outputs": [],
   "source": [
    "top3players = ['Rafael Nadal','Novak Djokovic','Roger Federer']"
   ]
  },
  {
   "cell_type": "code",
   "execution_count": null,
   "metadata": {
    "scrolled": true
   },
   "outputs": [],
   "source": [
    "atp_df.loc[atp_df['loser_name'].isin(top3players)|atp_df['winner_name'].isin(top3players)].minutes.mean()"
   ]
  },
  {
   "cell_type": "code",
   "execution_count": null,
   "metadata": {
    "scrolled": true
   },
   "outputs": [],
   "source": [
    "atp_df.loc[~atp_df['loser_name'].isin(top3players)|~atp_df['winner_name'].isin(top3players)].minutes.mean()"
   ]
  },
  {
   "cell_type": "code",
   "execution_count": null,
   "metadata": {
    "scrolled": true
   },
   "outputs": [],
   "source": [
    "top3_vs_field_df = atp_df.loc[~(atp_df['winner_name'].isin(top3players) & atp_df['loser_name'].isin(top3players))]"
   ]
  },
  {
   "cell_type": "code",
   "execution_count": null,
   "metadata": {
    "scrolled": true
   },
   "outputs": [],
   "source": [
    "top3_df = top3_vs_field_df.loc[top3_vs_field_df['winner_name'].isin(top3players)]\n",
    "top3_df['top3'] = top3_df['winner_name']\n",
    "top3_df['winner'] = 0\n",
    "top3_df.isnull().sum()"
   ]
  },
  {
   "cell_type": "code",
   "execution_count": null,
   "metadata": {
    "scrolled": true
   },
   "outputs": [],
   "source": [
    "top3_df = top3_df[['tourney_name','surface','loser_name','loser_hand','loser_ht','score', 'best_of','minutes',\n",
    "                    'l_ace','l_df','l_svpt','l_1stIn','l_1stWon','l_2ndWon','l_SvGms','l_bpSaved','l_bpFaced',\n",
    "                    'w_ace','w_df','w_svpt','w_1stIn','w_1stWon','w_2ndWon','w_SvGms','w_bpSaved','w_bpFaced','w_SvGms','winner','top3']]\n",
    "\n",
    "top3_df.columns = ['tourney_name','surface','player','hand','height','score', 'best_of','minutes',\n",
    "                     'ace','df','svpt','1stIn','1stWon','2ndWon','games_served','bpSaved','bpFaced','w_ace',\n",
    "                     'w_df','w_svpt','w_1stIn','w_1stWon','w_2ndWon','w_SvGms','w_bpSaved','w_bpFaced','games_received','winner','top3']"
   ]
  },
  {
   "cell_type": "code",
   "execution_count": null,
   "metadata": {
    "scrolled": true
   },
   "outputs": [],
   "source": [
    "top3_df.loc[top3_df['hand'].isnull(), 'hand'] = top3_df['player'].map(players_hand_dict)\n",
    "top3_df.loc[top3_df['height'].isnull(), 'height'] = top3_df['player'].map(players_height_dict)\n",
    "top3_df = top3_df[~top3_df.isin([np.nan, np.inf, -np.inf]).any(1)]"
   ]
  },
  {
   "cell_type": "code",
   "execution_count": null,
   "metadata": {
    "scrolled": true
   },
   "outputs": [],
   "source": [
    "top3_df['totalLost'] = top3_df['svpt'] - top3_df['1stWon'] - top3_df['2ndWon']\n",
    "top3_df['1stFaults'] = top3_df['svpt'] - top3_df['1stIn']\n",
    "top3_df['1stLost'] = top3_df['1stIn'] - top3_df['1stWon']\n",
    "top3_df['2ndServes'] = top3_df['1stFaults']\n",
    "top3_df['2ndIn'] = top3_df['2ndServes'] - top3_df['df']\n",
    "top3_df['2ndLost'] = top3_df['2ndServes'] - top3_df['2ndWon']\n",
    "top3_df['Op_1stLost'] = top3_df['w_1stIn'] - top3_df['w_1stWon']\n",
    "top3_df['1stInsReceived'] = top3_df['w_1stIn']\n",
    "top3_df['1stInsReceived_won'] = top3_df['w_1stIn'] - top3_df['w_1stWon']\n",
    "top3_df['2ndServesReceived'] = top3_df['w_svpt'] - top3_df['w_1stWon'] - top3_df['Op_1stLost']\n",
    "top3_df['2ndInsReceived'] = top3_df['2ndServesReceived'] - top3_df['w_df']\n",
    "top3_df['2ndInsReceived_won'] = top3_df['2ndInsReceived'] - top3_df['w_2ndWon']\n",
    "top3_df['bpChallenged'] = top3_df['w_bpFaced']\n",
    "top3_df['bpWon'] = top3_df['w_bpFaced'] - top3_df['w_bpSaved']"
   ]
  },
  {
   "cell_type": "code",
   "execution_count": null,
   "metadata": {
    "scrolled": true
   },
   "outputs": [],
   "source": [
    "top3_df['aces_per_game_served'] = top3_df['ace']/top3_df['games_served']\n",
    "top3_df['aces_per_total_serves'] = top3_df['ace']/top3_df['svpt']\n",
    "top3_df['doublefaults_per_game_served'] = top3_df['df']/top3_df['games_served']\n",
    "top3_df['doublefaults_per_points_lost'] = top3_df['df']/top3_df['totalLost']\n",
    "top3_df['doublefaults_per_2nd_serves'] = top3_df['df']/top3_df['2ndServes']\n",
    "top3_df['doublefaults_per_2nd_lost'] = top3_df['df']/top3_df['2ndLost']\n",
    "top3_df['1stIn_per_total_serves'] = top3_df['1stIn']/top3_df['svpt']\n",
    "top3_df['1stfault_per_1stserves'] = top3_df['1stFaults']/top3_df['svpt']\n",
    "top3_df['1stWon_per_game_served'] = top3_df['1stWon']/top3_df['games_served']\n",
    "top3_df['1stWon_per_total1stserves'] = top3_df['1stWon']/top3_df['svpt']\n",
    "top3_df['1stWon_per_1stIns'] = top3_df['1stWon']/top3_df['1stIn']\n",
    "top3_df['2ndserves_per_totalserves'] = top3_df['2ndServes']/top3_df['svpt']\n",
    "top3_df['2ndIn_per_total2ndserves'] = top3_df['1stIn']/top3_df['svpt']\n",
    "top3_df['2ndWon_per_total2ndserves'] = top3_df['2ndWon']/top3_df['2ndServes']\n",
    "top3_df['2ndWon_per_2ndIn'] = top3_df['2ndWon']/top3_df['2ndIn']\n",
    "top3_df['bpFaced_per_game_served'] = top3_df['bpFaced']/top3_df['svpt']\n",
    "top3_df['bpSaved_per_bpFaced'] = top3_df['bpSaved']/top3_df['bpFaced']\n",
    "top3_df['1stInsReceivedWon_per_received'] = top3_df['1stInsReceived_won']/top3_df['1stInsReceived']\n",
    "top3_df['2ndInsReceivedWon_per_received'] = top3_df['2ndInsReceived_won']/top3_df['2ndInsReceived']\n",
    "top3_df['bpChallenged_per_games_received'] = top3_df['bpChallenged']/top3_df['games_served']\n",
    "top3_df['bpWon_per_bpChallenged'] = top3_df['bpWon']/top3_df['bpChallenged']"
   ]
  },
  {
   "cell_type": "markdown",
   "metadata": {},
   "source": [
    "## Fix any NaNs and Infs caused by division by/of zero "
   ]
  },
  {
   "cell_type": "markdown",
   "metadata": {},
   "source": [
    "Division by 0 leads to nans and infs: https://stackoverflow.com/questions/38032817/dividing-one-dataframe-column-by-another-division-by-zero/46942969"
   ]
  },
  {
   "cell_type": "code",
   "execution_count": null,
   "metadata": {
    "scrolled": true
   },
   "outputs": [],
   "source": [
    "top3_df = top3_df.fillna(0)\n",
    "top3_df = top3_df.replace([np.inf, -np.inf], 0)"
   ]
  },
  {
   "cell_type": "code",
   "execution_count": null,
   "metadata": {
    "scrolled": true
   },
   "outputs": [],
   "source": [
    "top3_df.shape"
   ]
  },
  {
   "cell_type": "code",
   "execution_count": null,
   "metadata": {
    "scrolled": true
   },
   "outputs": [],
   "source": [
    "top3_df['top3'].value_counts()"
   ]
  },
  {
   "cell_type": "code",
   "execution_count": null,
   "metadata": {
    "scrolled": true
   },
   "outputs": [],
   "source": [
    "top3_df['minutes'].mean()"
   ]
  },
  {
   "cell_type": "code",
   "execution_count": null,
   "metadata": {
    "scrolled": true
   },
   "outputs": [],
   "source": [
    "top3_df['player'].value_counts()"
   ]
  },
  {
   "cell_type": "markdown",
   "metadata": {},
   "source": [
    "## Games where the Top3 Lost"
   ]
  },
  {
   "cell_type": "code",
   "execution_count": null,
   "metadata": {
    "scrolled": true
   },
   "outputs": [],
   "source": [
    "field_df = top3_vs_field_df.loc[top3_vs_field_df['loser_name'].isin(top3players)]\n",
    "field_df['top3'] = field_df['loser_name']\n",
    "field_df['winner'] = 1\n",
    "field_df.isnull().sum()"
   ]
  },
  {
   "cell_type": "code",
   "execution_count": null,
   "metadata": {
    "scrolled": true
   },
   "outputs": [],
   "source": [
    "field_df = field_df[['tourney_name','surface','winner_name','winner_hand','winner_ht','score', 'best_of','minutes',\n",
    "                     'w_ace','w_df','w_svpt','w_1stIn','w_1stWon','w_2ndWon','w_SvGms','w_bpSaved','w_bpFaced',\n",
    "                     'l_ace','l_df','l_svpt','l_1stIn','l_1stWon','l_2ndWon','l_SvGms','l_bpSaved','l_bpFaced','l_SvGms','winner','top3']]\n",
    "\n",
    "field_df.columns = ['tourney_name','surface','player','hand','height','score', 'best_of','minutes',\n",
    "                    'ace','df','svpt','1stIn','1stWon','2ndWon','games_served','bpSaved','bpFaced','l_ace','l_df',\n",
    "                    'l_svpt','l_1stIn','l_1stWon','l_2ndWon','l_SvGms','l_bpSaved','l_bpFaced','games_received','winner','top3']"
   ]
  },
  {
   "cell_type": "code",
   "execution_count": null,
   "metadata": {
    "scrolled": true
   },
   "outputs": [],
   "source": [
    "field_df.loc[field_df['hand'].isnull(), 'hand'] = field_df['player'].map(players_hand_dict)\n",
    "field_df.loc[field_df['height'].isnull(), 'height'] = field_df['player'].map(players_height_dict)\n",
    "field_df = field_df[~field_df.isin([np.nan, np.inf, -np.inf]).any(1)]"
   ]
  },
  {
   "cell_type": "code",
   "execution_count": null,
   "metadata": {
    "scrolled": true
   },
   "outputs": [],
   "source": [
    "field_df['totalLost'] = field_df['svpt'] - field_df['1stWon'] - field_df['2ndWon']\n",
    "field_df['1stFaults'] = field_df['svpt'] - field_df['1stIn']\n",
    "field_df['1stLost'] = field_df['1stIn'] - field_df['1stWon']\n",
    "field_df['2ndServes'] = field_df['1stFaults']\n",
    "field_df['2ndIn'] = field_df['2ndServes'] - field_df['df']\n",
    "field_df['2ndLost'] = field_df['2ndServes'] - field_df['2ndWon']\n",
    "field_df['Op_1stLost'] = field_df['l_1stIn'] - field_df['l_1stWon']\n",
    "field_df['1stInsReceived'] = field_df['l_1stIn']\n",
    "field_df['1stInsReceived_won'] = field_df['l_1stIn'] - field_df['l_1stWon']\n",
    "field_df['2ndServesReceived'] = field_df['l_svpt'] - field_df['l_1stWon'] - field_df['Op_1stLost']\n",
    "field_df['2ndInsReceived'] = field_df['2ndServesReceived'] - field_df['l_df']\n",
    "field_df['2ndInsReceived_won'] = field_df['2ndInsReceived'] - field_df['l_2ndWon']\n",
    "field_df['bpChallenged'] = field_df['l_bpFaced']\n",
    "field_df['bpWon'] = field_df['l_bpFaced'] - field_df['l_bpSaved']"
   ]
  },
  {
   "cell_type": "code",
   "execution_count": null,
   "metadata": {
    "scrolled": true
   },
   "outputs": [],
   "source": [
    "field_df['aces_per_game_served'] = field_df['ace']/field_df['games_served']\n",
    "field_df['aces_per_total_serves'] = field_df['ace']/field_df['svpt']\n",
    "field_df['doublefaults_per_game_served'] = field_df['df']/field_df['games_served']\n",
    "field_df['doublefaults_per_points_lost'] = field_df['df']/field_df['totalLost']\n",
    "field_df['doublefaults_per_2nd_serves'] = field_df['df']/field_df['2ndServes']\n",
    "field_df['doublefaults_per_2nd_lost'] = field_df['df']/field_df['2ndLost']\n",
    "field_df['1stIn_per_total_serves'] = field_df['1stIn']/field_df['svpt']\n",
    "field_df['1stfault_per_1stserves'] = field_df['1stFaults']/field_df['svpt']\n",
    "field_df['1stWon_per_game_served'] = field_df['1stWon']/field_df['games_served']\n",
    "field_df['1stWon_per_total1stserves'] = field_df['1stWon']/field_df['svpt']\n",
    "field_df['1stWon_per_1stIns'] = field_df['1stWon']/field_df['1stIn']\n",
    "field_df['2ndserves_per_totalserves'] = field_df['2ndServes']/field_df['svpt']\n",
    "field_df['2ndIn_per_total2ndserves'] = field_df['1stIn']/field_df['svpt']\n",
    "field_df['2ndWon_per_total2ndserves'] = field_df['2ndWon']/field_df['2ndServes']\n",
    "field_df['2ndWon_per_2ndIn'] = field_df['2ndWon']/field_df['2ndIn']\n",
    "field_df['bpFaced_per_game_served'] = field_df['bpFaced']/field_df['svpt']\n",
    "field_df['bpSaved_per_bpFaced'] = field_df['bpSaved']/field_df['bpFaced']\n",
    "field_df['1stInsReceivedWon_per_received'] = field_df['1stInsReceived_won']/field_df['1stInsReceived']\n",
    "field_df['2ndInsReceivedWon_per_received'] = field_df['2ndInsReceived_won']/field_df['2ndInsReceived']\n",
    "field_df['bpChallenged_per_games_received'] = field_df['bpChallenged']/field_df['games_served']\n",
    "field_df['bpWon_per_bpChallenged'] = field_df['bpWon']/field_df['bpChallenged']"
   ]
  },
  {
   "cell_type": "markdown",
   "metadata": {},
   "source": [
    "## Fix any NaNs and Infs caused by division by/of zero "
   ]
  },
  {
   "cell_type": "markdown",
   "metadata": {},
   "source": [
    "Division by 0 leads to nans and infs: https://stackoverflow.com/questions/38032817/dividing-one-dataframe-column-by-another-division-by-zero/46942969"
   ]
  },
  {
   "cell_type": "code",
   "execution_count": null,
   "metadata": {
    "scrolled": true
   },
   "outputs": [],
   "source": [
    "field_df = field_df.fillna(0)\n",
    "field_df = field_df.replace([np.inf, -np.inf], 0)"
   ]
  },
  {
   "cell_type": "code",
   "execution_count": null,
   "metadata": {
    "scrolled": true
   },
   "outputs": [],
   "source": [
    "field_df.shape"
   ]
  },
  {
   "cell_type": "code",
   "execution_count": null,
   "metadata": {
    "scrolled": true
   },
   "outputs": [],
   "source": [
    "field_df['minutes'].mean()"
   ]
  },
  {
   "cell_type": "code",
   "execution_count": null,
   "metadata": {
    "scrolled": true
   },
   "outputs": [],
   "source": [
    "field_df['top3'].value_counts()"
   ]
  },
  {
   "cell_type": "code",
   "execution_count": null,
   "metadata": {
    "scrolled": true
   },
   "outputs": [],
   "source": [
    "field_df['player'].value_counts()"
   ]
  },
  {
   "cell_type": "markdown",
   "metadata": {},
   "source": [
    "## Create a combined database of 50% players who lost to the big 3 and 50% who beat either of the big 3"
   ]
  },
  {
   "cell_type": "code",
   "execution_count": null,
   "metadata": {
    "scrolled": true
   },
   "outputs": [],
   "source": [
    "field_vs_federer_df = field_df[field_df['top3']=='Roger Federer'].sample(n=124)\n",
    "field_vs_federer_df.shape"
   ]
  },
  {
   "cell_type": "code",
   "execution_count": null,
   "metadata": {
    "scrolled": true
   },
   "outputs": [],
   "source": [
    "field_vs_nadal_df = field_df[field_df['top3']=='Rafael Nadal'].sample(n=124)\n",
    "field_vs_nadal_df.shape"
   ]
  },
  {
   "cell_type": "code",
   "execution_count": null,
   "metadata": {
    "scrolled": true
   },
   "outputs": [],
   "source": [
    "field_vs_djokovic_df = field_df[field_df['top3']=='Novak Djokovic'].sample(n=124)\n",
    "field_vs_djokovic_df.shape"
   ]
  },
  {
   "cell_type": "code",
   "execution_count": null,
   "metadata": {
    "scrolled": true
   },
   "outputs": [],
   "source": [
    "federer_vs_field_df = top3_df[top3_df['top3']=='Roger Federer'].sample(n=124)\n",
    "federer_vs_field_df.shape"
   ]
  },
  {
   "cell_type": "code",
   "execution_count": null,
   "metadata": {
    "scrolled": true
   },
   "outputs": [],
   "source": [
    "nadal_vs_field_df = top3_df[top3_df['top3']=='Rafael Nadal'].sample(n=124)\n",
    "nadal_vs_field_df.shape"
   ]
  },
  {
   "cell_type": "code",
   "execution_count": null,
   "metadata": {
    "scrolled": true
   },
   "outputs": [],
   "source": [
    "djokovic_vs_field_df = top3_df[top3_df['top3']=='Novak Djokovic'].sample(n=124)\n",
    "djokovic_vs_field_df.shape"
   ]
  },
  {
   "cell_type": "code",
   "execution_count": null,
   "metadata": {
    "scrolled": true
   },
   "outputs": [],
   "source": [
    "top3_vs_field_df = pd.concat([field_vs_federer_df,field_vs_nadal_df,field_vs_djokovic_df,federer_vs_field_df,nadal_vs_field_df,djokovic_vs_field_df], ignore_index=True)\n",
    "top3_vs_field_df.head(10)"
   ]
  },
  {
   "cell_type": "code",
   "execution_count": null,
   "metadata": {
    "scrolled": true
   },
   "outputs": [],
   "source": [
    "top3_vs_field_df.shape"
   ]
  },
  {
   "cell_type": "code",
   "execution_count": null,
   "metadata": {
    "scrolled": true
   },
   "outputs": [],
   "source": [
    "top3_vs_field_df.isnull().sum()"
   ]
  },
  {
   "cell_type": "code",
   "execution_count": null,
   "metadata": {
    "scrolled": true
   },
   "outputs": [],
   "source": [
    "top3_vs_field_stats_df = top3_vs_field_df[['hand','height','surface','minutes','aces_per_game_served','aces_per_total_serves','doublefaults_per_game_served','doublefaults_per_points_lost','doublefaults_per_2nd_serves','doublefaults_per_2nd_lost','1stIn_per_total_serves',\n",
    "                                          '1stWon_per_total1stserves','1stfault_per_1stserves','1stWon_per_game_served','1stWon_per_1stIns','2ndserves_per_totalserves','2ndIn_per_total2ndserves','2ndWon_per_total2ndserves','2ndWon_per_2ndIn',\n",
    "                                           'bpFaced_per_game_served','bpSaved_per_bpFaced','1stInsReceivedWon_per_received','2ndInsReceivedWon_per_received','bpChallenged_per_games_received','bpWon_per_bpChallenged','winner']]\n",
    "top3_vs_field_stats_df.shape"
   ]
  },
  {
   "cell_type": "code",
   "execution_count": null,
   "metadata": {
    "scrolled": true
   },
   "outputs": [],
   "source": [
    "top3_vs_field_stats_df.isnull().sum()"
   ]
  },
  {
   "cell_type": "code",
   "execution_count": null,
   "metadata": {
    "scrolled": true
   },
   "outputs": [],
   "source": [
    "top3_vs_field_stats_df.min()"
   ]
  },
  {
   "cell_type": "code",
   "execution_count": null,
   "metadata": {
    "scrolled": true
   },
   "outputs": [],
   "source": [
    "top3_vs_field_stats_df.max()"
   ]
  },
  {
   "cell_type": "code",
   "execution_count": null,
   "metadata": {
    "scrolled": true
   },
   "outputs": [],
   "source": [
    "top3_vs_field_stats_df.dtypes"
   ]
  },
  {
   "cell_type": "code",
   "execution_count": null,
   "metadata": {
    "scrolled": true
   },
   "outputs": [],
   "source": [
    "top3_vs_field_stats_df = top3_vs_field_stats_df[['hand','height','surface','minutes','aces_per_game_served','aces_per_total_serves','doublefaults_per_game_served','doublefaults_per_points_lost','doublefaults_per_2nd_serves','doublefaults_per_2nd_lost','1stIn_per_total_serves',\n",
    "                                                '1stWon_per_total1stserves','1stfault_per_1stserves','1stWon_per_game_served','1stWon_per_1stIns','2ndserves_per_totalserves','2ndIn_per_total2ndserves','2ndWon_per_total2ndserves','2ndWon_per_2ndIn','bpFaced_per_game_served',\n",
    "                                                 'bpSaved_per_bpFaced','1stInsReceivedWon_per_received','2ndInsReceivedWon_per_received','bpChallenged_per_games_received','bpWon_per_bpChallenged','winner']]"
   ]
  },
  {
   "cell_type": "code",
   "execution_count": null,
   "metadata": {
    "scrolled": true
   },
   "outputs": [],
   "source": [
    "top3_vs_field_stats_df.head(5)"
   ]
  },
  {
   "cell_type": "code",
   "execution_count": null,
   "metadata": {
    "scrolled": true
   },
   "outputs": [],
   "source": [
    "top3_vs_field_stats_df.corr(method ='pearson')['winner']"
   ]
  },
  {
   "cell_type": "code",
   "execution_count": null,
   "metadata": {
    "scrolled": true
   },
   "outputs": [],
   "source": [
    "top3_vs_field_stats_df['winner'].unique()"
   ]
  },
  {
   "cell_type": "markdown",
   "metadata": {},
   "source": [
    "## Covert win column to string for prediction models in RQ2"
   ]
  },
  {
   "cell_type": "code",
   "execution_count": null,
   "metadata": {
    "scrolled": true
   },
   "outputs": [],
   "source": [
    "top3_vs_field_stats_df.loc[top3_vs_field_stats_df['winner']==0,'winner'] = 'top3'\n",
    "top3_vs_field_stats_df.loc[top3_vs_field_stats_df['winner']==1,'winner'] = 'field'\n",
    "top3_vs_field_stats_df['winner'].value_counts()"
   ]
  },
  {
   "cell_type": "code",
   "execution_count": null,
   "metadata": {
    "scrolled": true
   },
   "outputs": [],
   "source": [
    "top3_vs_field_stats_df.shape"
   ]
  },
  {
   "cell_type": "markdown",
   "metadata": {},
   "source": [
    "## Save dataframe"
   ]
  },
  {
   "cell_type": "code",
   "execution_count": null,
   "metadata": {
    "scrolled": true
   },
   "outputs": [],
   "source": [
    "top3_vs_field_stats_df.to_csv('RQ2_df.csv')"
   ]
  }
 ],
 "metadata": {
  "kernelspec": {
   "display_name": "Python 3",
   "language": "python",
   "name": "python3"
  },
  "language_info": {
   "codemirror_mode": {
    "name": "ipython",
    "version": 3
   },
   "file_extension": ".py",
   "mimetype": "text/x-python",
   "name": "python",
   "nbconvert_exporter": "python",
   "pygments_lexer": "ipython3",
   "version": "3.7.6"
  },
  "toc": {
   "base_numbering": 1,
   "nav_menu": {},
   "number_sections": true,
   "sideBar": true,
   "skip_h1_title": false,
   "title_cell": "Table of Contents",
   "title_sidebar": "Contents",
   "toc_cell": true,
   "toc_position": {},
   "toc_section_display": true,
   "toc_window_display": false
  }
 },
 "nbformat": 4,
 "nbformat_minor": 4
}
