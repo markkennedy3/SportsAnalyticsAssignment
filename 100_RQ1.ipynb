{
 "cells": [
  {
   "cell_type": "markdown",
   "metadata": {
    "toc": true
   },
   "source": [
    "<h1>Table of Contents<span class=\"tocSkip\"></span></h1>\n",
    "<div class=\"toc\"><ul class=\"toc-item\"><li><span><a href=\"#Load-The-Data\" data-toc-modified-id=\"Load-The-Data-1\"><span class=\"toc-item-num\">1&nbsp;&nbsp;</span>Load The Data</a></span></li><li><span><a href=\"#Features\" data-toc-modified-id=\"Features-2\"><span class=\"toc-item-num\">2&nbsp;&nbsp;</span>Features</a></span><ul class=\"toc-item\"><li><span><a href=\"#Hand\" data-toc-modified-id=\"Hand-2.1\"><span class=\"toc-item-num\">2.1&nbsp;&nbsp;</span>Hand</a></span></li><li><span><a href=\"#Height\" data-toc-modified-id=\"Height-2.2\"><span class=\"toc-item-num\">2.2&nbsp;&nbsp;</span>Height</a></span></li><li><span><a href=\"#aces_per_game_served\" data-toc-modified-id=\"aces_per_game_served-2.3\"><span class=\"toc-item-num\">2.3&nbsp;&nbsp;</span>aces_per_game_served</a></span></li><li><span><a href=\"#aces_per_total_serves\" data-toc-modified-id=\"aces_per_total_serves-2.4\"><span class=\"toc-item-num\">2.4&nbsp;&nbsp;</span>aces_per_total_serves</a></span></li><li><span><a href=\"#doublefaults_per_game_served\" data-toc-modified-id=\"doublefaults_per_game_served-2.5\"><span class=\"toc-item-num\">2.5&nbsp;&nbsp;</span>doublefaults_per_game_served</a></span></li><li><span><a href=\"#doublefaults_per_points_lost\" data-toc-modified-id=\"doublefaults_per_points_lost-2.6\"><span class=\"toc-item-num\">2.6&nbsp;&nbsp;</span>doublefaults_per_points_lost</a></span></li><li><span><a href=\"#doublefaults_per_2nd_serves\" data-toc-modified-id=\"doublefaults_per_2nd_serves-2.7\"><span class=\"toc-item-num\">2.7&nbsp;&nbsp;</span>doublefaults_per_2nd_serves</a></span></li><li><span><a href=\"#doublefaults_per_2ndserves_lost\" data-toc-modified-id=\"doublefaults_per_2ndserves_lost-2.8\"><span class=\"toc-item-num\">2.8&nbsp;&nbsp;</span>doublefaults_per_2ndserves_lost</a></span></li><li><span><a href=\"#1stIn_per_total_serves\" data-toc-modified-id=\"1stIn_per_total_serves-2.9\"><span class=\"toc-item-num\">2.9&nbsp;&nbsp;</span>1stIn_per_total_serves</a></span></li><li><span><a href=\"#1stWon_per_total_serves\" data-toc-modified-id=\"1stWon_per_total_serves-2.10\"><span class=\"toc-item-num\">2.10&nbsp;&nbsp;</span>1stWon_per_total_serves</a></span></li><li><span><a href=\"#1stfault_per_1stserves\" data-toc-modified-id=\"1stfault_per_1stserves-2.11\"><span class=\"toc-item-num\">2.11&nbsp;&nbsp;</span>1stfault_per_1stserves</a></span></li><li><span><a href=\"#1stWon_per_game_served\" data-toc-modified-id=\"1stWon_per_game_served-2.12\"><span class=\"toc-item-num\">2.12&nbsp;&nbsp;</span>1stWon_per_game_served</a></span></li><li><span><a href=\"#1stWon_per_1stIns\" data-toc-modified-id=\"1stWon_per_1stIns-2.13\"><span class=\"toc-item-num\">2.13&nbsp;&nbsp;</span>1stWon_per_1stIns</a></span></li><li><span><a href=\"#2ndServes_per_totalserves\" data-toc-modified-id=\"2ndServes_per_totalserves-2.14\"><span class=\"toc-item-num\">2.14&nbsp;&nbsp;</span>2ndServes_per_totalserves</a></span></li><li><span><a href=\"#2ndIn_per_total2ndserves\" data-toc-modified-id=\"2ndIn_per_total2ndserves-2.15\"><span class=\"toc-item-num\">2.15&nbsp;&nbsp;</span>2ndIn_per_total2ndserves</a></span></li><li><span><a href=\"#2ndWon_per_total2ndServes\" data-toc-modified-id=\"2ndWon_per_total2ndServes-2.16\"><span class=\"toc-item-num\">2.16&nbsp;&nbsp;</span>2ndWon_per_total2ndServes</a></span></li><li><span><a href=\"#2ndWon_per_2ndIn\" data-toc-modified-id=\"2ndWon_per_2ndIn-2.17\"><span class=\"toc-item-num\">2.17&nbsp;&nbsp;</span>2ndWon_per_2ndIn</a></span></li><li><span><a href=\"#bpFaced_per_game_served\" data-toc-modified-id=\"bpFaced_per_game_served-2.18\"><span class=\"toc-item-num\">2.18&nbsp;&nbsp;</span>bpFaced_per_game_served</a></span></li><li><span><a href=\"#bpSaved_per_bpFaced\" data-toc-modified-id=\"bpSaved_per_bpFaced-2.19\"><span class=\"toc-item-num\">2.19&nbsp;&nbsp;</span>bpSaved_per_bpFaced</a></span></li><li><span><a href=\"#1stInsReceivedWon_per_received\" data-toc-modified-id=\"1stInsReceivedWon_per_received-2.20\"><span class=\"toc-item-num\">2.20&nbsp;&nbsp;</span>1stInsReceivedWon_per_received</a></span></li><li><span><a href=\"#2ndInsReceivedWon_per_received\" data-toc-modified-id=\"2ndInsReceivedWon_per_received-2.21\"><span class=\"toc-item-num\">2.21&nbsp;&nbsp;</span>2ndInsReceivedWon_per_received</a></span></li><li><span><a href=\"#bpChallenged_per_games_received\" data-toc-modified-id=\"bpChallenged_per_games_received-2.22\"><span class=\"toc-item-num\">2.22&nbsp;&nbsp;</span>bpChallenged_per_games_received</a></span></li><li><span><a href=\"#bpWon_per_bpChallenged\" data-toc-modified-id=\"bpWon_per_bpChallenged-2.23\"><span class=\"toc-item-num\">2.23&nbsp;&nbsp;</span>bpWon_per_bpChallenged</a></span></li></ul></li><li><span><a href=\"#Correlation\" data-toc-modified-id=\"Correlation-3\"><span class=\"toc-item-num\">3&nbsp;&nbsp;</span>Correlation</a></span></li><li><span><a href=\"#Extra:-Clustering\" data-toc-modified-id=\"Extra:-Clustering-4\"><span class=\"toc-item-num\">4&nbsp;&nbsp;</span>Extra: Clustering</a></span><ul class=\"toc-item\"><li><span><a href=\"#Min-max-normalisation\" data-toc-modified-id=\"Min-max-normalisation-4.1\"><span class=\"toc-item-num\">4.1&nbsp;&nbsp;</span>Min max normalisation</a></span></li><li><span><a href=\"#PCA\" data-toc-modified-id=\"PCA-4.2\"><span class=\"toc-item-num\">4.2&nbsp;&nbsp;</span>PCA</a></span></li><li><span><a href=\"#TSNE\" data-toc-modified-id=\"TSNE-4.3\"><span class=\"toc-item-num\">4.3&nbsp;&nbsp;</span>TSNE</a></span></li><li><span><a href=\"#MDS\" data-toc-modified-id=\"MDS-4.4\"><span class=\"toc-item-num\">4.4&nbsp;&nbsp;</span>MDS</a></span></li><li><span><a href=\"#Hierarchical-Clustering\" data-toc-modified-id=\"Hierarchical-Clustering-4.5\"><span class=\"toc-item-num\">4.5&nbsp;&nbsp;</span>Hierarchical Clustering</a></span></li><li><span><a href=\"#Feature-Importance\" data-toc-modified-id=\"Feature-Importance-4.6\"><span class=\"toc-item-num\">4.6&nbsp;&nbsp;</span>Feature Importance</a></span></li></ul></li><li><span><a href=\"#Correlations\" data-toc-modified-id=\"Correlations-5\"><span class=\"toc-item-num\">5&nbsp;&nbsp;</span>Correlations</a></span></li></ul></div>"
   ]
  },
  {
   "cell_type": "markdown",
   "metadata": {},
   "source": [
    "# Load The Data"
   ]
  },
  {
   "cell_type": "code",
   "execution_count": null,
   "metadata": {},
   "outputs": [],
   "source": [
    "import pandas as pd\n",
    "import numpy as np\n",
    "import matplotlib.pyplot as plt\n",
    "from sklearn import preprocessing\n",
    "from sklearn import manifold,decomposition\n",
    "from sklearn.ensemble import ExtraTreesClassifier\n",
    "from sklearn.decomposition import PCA as sklearnPCA \n",
    "from scipy.cluster.hierarchy import dendrogram, linkage, fcluster"
   ]
  },
  {
   "cell_type": "code",
   "execution_count": null,
   "metadata": {},
   "outputs": [],
   "source": [
    "RQ1_df = pd.read_csv('RQ1_df.csv')\n",
    "df = RQ1_df"
   ]
  },
  {
   "cell_type": "code",
   "execution_count": null,
   "metadata": {},
   "outputs": [],
   "source": [
    "df.columns"
   ]
  },
  {
   "cell_type": "markdown",
   "metadata": {},
   "source": [
    " # Features"
   ]
  },
  {
   "cell_type": "code",
   "execution_count": null,
   "metadata": {},
   "outputs": [],
   "source": [
    "top3players = ['Rafael Nadal','Novak Djokovic','Roger Federer']\n",
    "top3_indexs = df.loc[df.player.isin(top3players)].index"
   ]
  },
  {
   "cell_type": "code",
   "execution_count": null,
   "metadata": {},
   "outputs": [],
   "source": [
    "len(df)"
   ]
  },
  {
   "cell_type": "code",
   "execution_count": null,
   "metadata": {},
   "outputs": [],
   "source": [
    "df['win_rate'].hist(bins=40)"
   ]
  },
  {
   "cell_type": "markdown",
   "metadata": {},
   "source": [
    "## Hand"
   ]
  },
  {
   "cell_type": "code",
   "execution_count": null,
   "metadata": {},
   "outputs": [],
   "source": [
    "df['hand'].value_counts()"
   ]
  },
  {
   "cell_type": "code",
   "execution_count": null,
   "metadata": {},
   "outputs": [],
   "source": [
    "df['hand'].value_counts()/280"
   ]
  },
  {
   "cell_type": "code",
   "execution_count": null,
   "metadata": {},
   "outputs": [],
   "source": [
    "df.groupby('hand')['win_rate'].mean()"
   ]
  },
  {
   "cell_type": "markdown",
   "metadata": {},
   "source": [
    "## Height"
   ]
  },
  {
   "cell_type": "code",
   "execution_count": null,
   "metadata": {},
   "outputs": [],
   "source": [
    "print(\"Height correlation to win_rate: \" + str(df.corr(method ='pearson')['win_rate'][0]))"
   ]
  },
  {
   "cell_type": "code",
   "execution_count": null,
   "metadata": {},
   "outputs": [],
   "source": [
    "df.corr(method ='pearson')[['aces_per_game_served','aces_per_total_serves','doublefaults_per_game_served','doublefaults_per_points_lost','doublefaults_per_2nd_serves','doublefaults_per_2nd_lost']].head(1)"
   ]
  },
  {
   "cell_type": "code",
   "execution_count": null,
   "metadata": {},
   "outputs": [],
   "source": [
    "df1 = df.sort_values('height', ascending=False)[['player','height']].reset_index(drop=True)\n",
    "df1.head(5)"
   ]
  },
  {
   "cell_type": "code",
   "execution_count": null,
   "metadata": {},
   "outputs": [],
   "source": [
    "df1.height.mean()"
   ]
  },
  {
   "cell_type": "code",
   "execution_count": null,
   "metadata": {},
   "outputs": [],
   "source": [
    "df1.tail(5)"
   ]
  },
  {
   "cell_type": "code",
   "execution_count": null,
   "metadata": {},
   "outputs": [],
   "source": [
    "df1.loc[df1['player'].isin(top3players)][['player','height']]"
   ]
  },
  {
   "cell_type": "code",
   "execution_count": null,
   "metadata": {},
   "outputs": [],
   "source": [
    "df1.height.hist()"
   ]
  },
  {
   "cell_type": "markdown",
   "metadata": {},
   "source": [
    "## aces_per_game_served"
   ]
  },
  {
   "cell_type": "code",
   "execution_count": null,
   "metadata": {},
   "outputs": [],
   "source": [
    "print(\"Ace/games_served correlation to win_rate: \" + str(df.corr(method ='pearson')['win_rate'][1]))"
   ]
  },
  {
   "cell_type": "code",
   "execution_count": null,
   "metadata": {},
   "outputs": [],
   "source": [
    "df2 = df.sort_values('aces_per_game_served', ascending=False)[['player','aces_per_game_served']].reset_index(drop=True)\n",
    "df2.head(5)"
   ]
  },
  {
   "cell_type": "code",
   "execution_count": null,
   "metadata": {},
   "outputs": [],
   "source": [
    "df2.loc[df2['player'].isin(top3players)][['player','aces_per_game_served']]"
   ]
  },
  {
   "cell_type": "code",
   "execution_count": null,
   "metadata": {},
   "outputs": [],
   "source": [
    "df2['aces_per_game_served'].hist()"
   ]
  },
  {
   "cell_type": "markdown",
   "metadata": {},
   "source": [
    "## aces_per_total_serves"
   ]
  },
  {
   "cell_type": "code",
   "execution_count": null,
   "metadata": {},
   "outputs": [],
   "source": [
    "print(\"Ace/total_serves correlation to win_rate: \" + str(df.corr(method ='pearson')['win_rate'][2]))"
   ]
  },
  {
   "cell_type": "code",
   "execution_count": null,
   "metadata": {},
   "outputs": [],
   "source": [
    "df3 = df.sort_values('aces_per_total_serves', ascending=False)[['player','aces_per_total_serves']].reset_index(drop=True)\n",
    "df3.head(5)"
   ]
  },
  {
   "cell_type": "code",
   "execution_count": null,
   "metadata": {},
   "outputs": [],
   "source": [
    "df3.loc[df3['player'].isin(top3players)][['player','aces_per_total_serves']]"
   ]
  },
  {
   "cell_type": "code",
   "execution_count": null,
   "metadata": {},
   "outputs": [],
   "source": [
    "df3['aces_per_total_serves'].hist()"
   ]
  },
  {
   "cell_type": "markdown",
   "metadata": {},
   "source": [
    "## doublefaults_per_game_served"
   ]
  },
  {
   "cell_type": "code",
   "execution_count": null,
   "metadata": {},
   "outputs": [],
   "source": [
    "print(\"Doublefaults/game_served correlation to win_rate: \" + str(df.corr(method ='pearson')['win_rate'][3]))"
   ]
  },
  {
   "cell_type": "code",
   "execution_count": null,
   "metadata": {},
   "outputs": [],
   "source": [
    "df4 = df.sort_values('doublefaults_per_game_served', ascending=True)[['player','doublefaults_per_game_served']].reset_index(drop=True)\n",
    "df4.head(5)"
   ]
  },
  {
   "cell_type": "code",
   "execution_count": null,
   "metadata": {},
   "outputs": [],
   "source": [
    "df4.loc[df4['player'].isin(top3players)][['player','doublefaults_per_game_served']]"
   ]
  },
  {
   "cell_type": "code",
   "execution_count": null,
   "metadata": {},
   "outputs": [],
   "source": [
    "df4['doublefaults_per_game_served'].hist()"
   ]
  },
  {
   "cell_type": "markdown",
   "metadata": {},
   "source": [
    "## doublefaults_per_points_lost"
   ]
  },
  {
   "cell_type": "code",
   "execution_count": null,
   "metadata": {},
   "outputs": [],
   "source": [
    "print(\"Doublefaults/points_lost correlation to win_rate: \" + str(df.corr(method ='pearson')['win_rate'][4])) "
   ]
  },
  {
   "cell_type": "code",
   "execution_count": null,
   "metadata": {},
   "outputs": [],
   "source": [
    "df5 = df.sort_values('doublefaults_per_points_lost', ascending=True)[['player','doublefaults_per_points_lost']].reset_index(drop=True)\n",
    "df5.head(5)"
   ]
  },
  {
   "cell_type": "code",
   "execution_count": null,
   "metadata": {},
   "outputs": [],
   "source": [
    "df5.loc[df5['player'].isin(top3players)][['player','doublefaults_per_points_lost']]"
   ]
  },
  {
   "cell_type": "code",
   "execution_count": null,
   "metadata": {},
   "outputs": [],
   "source": [
    "df5['doublefaults_per_points_lost'].hist()"
   ]
  },
  {
   "cell_type": "markdown",
   "metadata": {},
   "source": [
    "## doublefaults_per_2nd_serves"
   ]
  },
  {
   "cell_type": "code",
   "execution_count": null,
   "metadata": {},
   "outputs": [],
   "source": [
    "print(\"doublefaults/2nd_serves correlation to win_rate: \" + str(df.corr(method ='pearson')['win_rate'][5]))"
   ]
  },
  {
   "cell_type": "code",
   "execution_count": null,
   "metadata": {},
   "outputs": [],
   "source": [
    "df6 = df.sort_values('doublefaults_per_2nd_serves', ascending=True)[['player','doublefaults_per_2nd_serves']].reset_index(drop=True)\n",
    "df6.head(5)"
   ]
  },
  {
   "cell_type": "code",
   "execution_count": null,
   "metadata": {},
   "outputs": [],
   "source": [
    "df6.loc[df6['player'].isin(top3players)][['player','doublefaults_per_2nd_serves']]"
   ]
  },
  {
   "cell_type": "code",
   "execution_count": null,
   "metadata": {},
   "outputs": [],
   "source": [
    "df6['doublefaults_per_2nd_serves'].hist()"
   ]
  },
  {
   "cell_type": "markdown",
   "metadata": {},
   "source": [
    "## doublefaults_per_2ndserves_lost"
   ]
  },
  {
   "cell_type": "code",
   "execution_count": null,
   "metadata": {},
   "outputs": [],
   "source": [
    "print(\"doublefaults/2ndserves_lost correlation to win_rate: \" + str(df.corr(method ='pearson')['win_rate'][6]))"
   ]
  },
  {
   "cell_type": "code",
   "execution_count": null,
   "metadata": {},
   "outputs": [],
   "source": [
    "df7 = df.sort_values('doublefaults_per_2nd_lost', ascending=True)[['player','doublefaults_per_2nd_lost']].reset_index(drop=True)\n",
    "df7.head(5)"
   ]
  },
  {
   "cell_type": "code",
   "execution_count": null,
   "metadata": {},
   "outputs": [],
   "source": [
    "df7.loc[df7['player'].isin(top3players)][['player','doublefaults_per_2nd_lost']]"
   ]
  },
  {
   "cell_type": "code",
   "execution_count": null,
   "metadata": {},
   "outputs": [],
   "source": [
    "df7['doublefaults_per_2nd_lost'].hist()"
   ]
  },
  {
   "cell_type": "markdown",
   "metadata": {},
   "source": [
    "## 1stIn_per_total_serves"
   ]
  },
  {
   "cell_type": "code",
   "execution_count": null,
   "metadata": {},
   "outputs": [],
   "source": [
    "print(\"1stIn/total_serves correlation to win_rate: \" + str(df.corr(method ='pearson')['win_rate'][7]))"
   ]
  },
  {
   "cell_type": "code",
   "execution_count": null,
   "metadata": {},
   "outputs": [],
   "source": [
    "df8 = df.sort_values('1stIn_per_total_serves', ascending=False)[['player','1stIn_per_total_serves']].reset_index(drop=True)\n",
    "df8.head(5)"
   ]
  },
  {
   "cell_type": "code",
   "execution_count": null,
   "metadata": {},
   "outputs": [],
   "source": [
    "df8.loc[df8['player'].isin(top3players)][['player','1stIn_per_total_serves']]"
   ]
  },
  {
   "cell_type": "code",
   "execution_count": null,
   "metadata": {},
   "outputs": [],
   "source": [
    "df8['1stIn_per_total_serves'].hist()"
   ]
  },
  {
   "cell_type": "markdown",
   "metadata": {},
   "source": [
    "## 1stWon_per_total_serves"
   ]
  },
  {
   "cell_type": "code",
   "execution_count": null,
   "metadata": {},
   "outputs": [],
   "source": [
    "print(\"1stWon/total_serves correlation to win_rate: \" + str(df.corr(method ='pearson')['win_rate'][8]))"
   ]
  },
  {
   "cell_type": "code",
   "execution_count": null,
   "metadata": {},
   "outputs": [],
   "source": [
    "df9 = df.sort_values('1stWon_per_total1stserves', ascending=False)[['player','1stWon_per_total1stserves']].reset_index(drop=True)\n",
    "df9.head(5)"
   ]
  },
  {
   "cell_type": "code",
   "execution_count": null,
   "metadata": {},
   "outputs": [],
   "source": [
    "df9.loc[df9['player'].isin(top3players)][['player','1stWon_per_total1stserves']]"
   ]
  },
  {
   "cell_type": "code",
   "execution_count": null,
   "metadata": {},
   "outputs": [],
   "source": [
    "df9['1stWon_per_total1stserves'].hist()"
   ]
  },
  {
   "cell_type": "markdown",
   "metadata": {},
   "source": [
    "## 1stfault_per_1stserves"
   ]
  },
  {
   "cell_type": "code",
   "execution_count": null,
   "metadata": {},
   "outputs": [],
   "source": [
    "print(\"1stfault/total1sServes correlation to win_rate: \" + str(df.corr(method ='pearson')['win_rate'][9]))"
   ]
  },
  {
   "cell_type": "code",
   "execution_count": null,
   "metadata": {},
   "outputs": [],
   "source": [
    "df10 = df.sort_values('1stfault_per_1stserves', ascending=True)[['player','1stfault_per_1stserves']].reset_index(drop=True)\n",
    "df10.head(5)"
   ]
  },
  {
   "cell_type": "code",
   "execution_count": null,
   "metadata": {},
   "outputs": [],
   "source": [
    "df10.loc[df10['player'].isin(top3players)][['player','1stfault_per_1stserves']]"
   ]
  },
  {
   "cell_type": "code",
   "execution_count": null,
   "metadata": {},
   "outputs": [],
   "source": [
    "df10['1stfault_per_1stserves'].hist()"
   ]
  },
  {
   "cell_type": "markdown",
   "metadata": {},
   "source": [
    "## 1stWon_per_game_served"
   ]
  },
  {
   "cell_type": "code",
   "execution_count": null,
   "metadata": {},
   "outputs": [],
   "source": [
    "print(\"1stWon/games_served correlation to win_rate: \" + str(df.corr(method ='pearson')['win_rate'][10]))"
   ]
  },
  {
   "cell_type": "code",
   "execution_count": null,
   "metadata": {},
   "outputs": [],
   "source": [
    "df11 = df.sort_values('1stWon_per_game_served', ascending=False)[['player','1stWon_per_game_served']].reset_index(drop=True)\n",
    "df11.head(5)"
   ]
  },
  {
   "cell_type": "code",
   "execution_count": null,
   "metadata": {},
   "outputs": [],
   "source": [
    "df11.loc[df11['player'].isin(top3players)][['player','1stWon_per_game_served']]"
   ]
  },
  {
   "cell_type": "code",
   "execution_count": null,
   "metadata": {},
   "outputs": [],
   "source": [
    "df11['1stWon_per_game_served'].hist()"
   ]
  },
  {
   "cell_type": "markdown",
   "metadata": {},
   "source": [
    "## 1stWon_per_1stIns"
   ]
  },
  {
   "cell_type": "code",
   "execution_count": null,
   "metadata": {},
   "outputs": [],
   "source": [
    "print(\"1stWon/1stIns correlation to win_rate: \" + str(df.corr(method ='pearson')['win_rate'][11]))"
   ]
  },
  {
   "cell_type": "code",
   "execution_count": null,
   "metadata": {},
   "outputs": [],
   "source": [
    "df12 = df.sort_values('1stWon_per_1stIns', ascending=False)[['player','1stWon_per_1stIns']].reset_index(drop=True)\n",
    "df12.head(5)"
   ]
  },
  {
   "cell_type": "code",
   "execution_count": null,
   "metadata": {},
   "outputs": [],
   "source": [
    "df12.loc[df12['player'].isin(top3players)][['player','1stWon_per_1stIns']]"
   ]
  },
  {
   "cell_type": "code",
   "execution_count": null,
   "metadata": {},
   "outputs": [],
   "source": [
    "df12['1stWon_per_1stIns'].hist()"
   ]
  },
  {
   "cell_type": "markdown",
   "metadata": {},
   "source": [
    "## 2ndServes_per_totalserves"
   ]
  },
  {
   "cell_type": "code",
   "execution_count": null,
   "metadata": {},
   "outputs": [],
   "source": [
    "print(\"2ndserves/totalserves correlation to win_rate: \" + str(df.corr(method ='pearson')['win_rate'][12]))"
   ]
  },
  {
   "cell_type": "code",
   "execution_count": null,
   "metadata": {},
   "outputs": [],
   "source": [
    "df13 = df.sort_values('2ndserves_per_totalserves', ascending=True)[['player','2ndserves_per_totalserves']].reset_index(drop=True)\n",
    "df13.head(5)"
   ]
  },
  {
   "cell_type": "code",
   "execution_count": null,
   "metadata": {},
   "outputs": [],
   "source": [
    "df13.loc[df13['player'].isin(top3players)][['player','2ndserves_per_totalserves']]"
   ]
  },
  {
   "cell_type": "code",
   "execution_count": null,
   "metadata": {},
   "outputs": [],
   "source": [
    "df13['2ndserves_per_totalserves'].hist()"
   ]
  },
  {
   "cell_type": "markdown",
   "metadata": {},
   "source": [
    "## 2ndIn_per_total2ndserves"
   ]
  },
  {
   "cell_type": "code",
   "execution_count": null,
   "metadata": {},
   "outputs": [],
   "source": [
    "print(\"2ndIn/total2ndserves correlation to win_rate: \" + str(df.corr(method ='pearson')['win_rate'][13]))"
   ]
  },
  {
   "cell_type": "code",
   "execution_count": null,
   "metadata": {},
   "outputs": [],
   "source": [
    "df14 = df.sort_values('2ndIn_per_total2ndserves', ascending=False)[['player','2ndIn_per_total2ndserves']].reset_index(drop=True)\n",
    "df14.head(5)"
   ]
  },
  {
   "cell_type": "code",
   "execution_count": null,
   "metadata": {},
   "outputs": [],
   "source": [
    "df14.loc[df14['player'].isin(top3players)][['player','2ndIn_per_total2ndserves']]"
   ]
  },
  {
   "cell_type": "code",
   "execution_count": null,
   "metadata": {},
   "outputs": [],
   "source": [
    "df14['2ndIn_per_total2ndserves'].hist()"
   ]
  },
  {
   "cell_type": "markdown",
   "metadata": {},
   "source": [
    "## 2ndWon_per_total2ndServes"
   ]
  },
  {
   "cell_type": "code",
   "execution_count": null,
   "metadata": {},
   "outputs": [],
   "source": [
    "print(\"2ndWon/total2ndserves correlation to win_rate: \" + str(df.corr(method ='pearson')['win_rate'][14]))"
   ]
  },
  {
   "cell_type": "code",
   "execution_count": null,
   "metadata": {},
   "outputs": [],
   "source": [
    "df15 = df.sort_values('2ndWon_per_total2ndserves', ascending=False)[['player','2ndWon_per_total2ndserves']].reset_index(drop=True)\n",
    "df15.head(5)"
   ]
  },
  {
   "cell_type": "code",
   "execution_count": null,
   "metadata": {},
   "outputs": [],
   "source": [
    "df15.loc[df15['player'].isin(top3players)][['player','2ndWon_per_total2ndserves']]"
   ]
  },
  {
   "cell_type": "code",
   "execution_count": null,
   "metadata": {},
   "outputs": [],
   "source": [
    "df15['2ndWon_per_total2ndserves'].hist()"
   ]
  },
  {
   "cell_type": "markdown",
   "metadata": {},
   "source": [
    "## 2ndWon_per_2ndIn"
   ]
  },
  {
   "cell_type": "code",
   "execution_count": null,
   "metadata": {},
   "outputs": [],
   "source": [
    "print(\"2ndWon/2ndIn correlation to win_rate: \" + str(df.corr(method ='pearson')['win_rate'][15]))"
   ]
  },
  {
   "cell_type": "code",
   "execution_count": null,
   "metadata": {},
   "outputs": [],
   "source": [
    "df16 = df.sort_values('2ndWon_per_2ndIn', ascending=False)[['player','2ndWon_per_2ndIn']].reset_index(drop=True)\n",
    "df16.head(5)"
   ]
  },
  {
   "cell_type": "code",
   "execution_count": null,
   "metadata": {},
   "outputs": [],
   "source": [
    "df16.loc[df16['player'].isin(top3players)][['player','2ndWon_per_2ndIn']]"
   ]
  },
  {
   "cell_type": "code",
   "execution_count": null,
   "metadata": {},
   "outputs": [],
   "source": [
    "df16['2ndWon_per_2ndIn'].hist()"
   ]
  },
  {
   "cell_type": "markdown",
   "metadata": {},
   "source": [
    "## bpFaced_per_game_served"
   ]
  },
  {
   "cell_type": "code",
   "execution_count": null,
   "metadata": {},
   "outputs": [],
   "source": [
    "print(\"bpFaced/game_served correlation to win_rate: \" + str(df.corr(method ='pearson')['win_rate'][16]))"
   ]
  },
  {
   "cell_type": "code",
   "execution_count": null,
   "metadata": {},
   "outputs": [],
   "source": [
    "df17 = df.sort_values('bpFaced_per_game_served', ascending=True)[['player','bpFaced_per_game_served']].reset_index(drop=True)\n",
    "df17.head(5)"
   ]
  },
  {
   "cell_type": "code",
   "execution_count": null,
   "metadata": {},
   "outputs": [],
   "source": [
    "df17.loc[df17['player'].isin(top3players)][['player','bpFaced_per_game_served']]"
   ]
  },
  {
   "cell_type": "code",
   "execution_count": null,
   "metadata": {},
   "outputs": [],
   "source": [
    "df17['bpFaced_per_game_served'].hist()"
   ]
  },
  {
   "cell_type": "markdown",
   "metadata": {},
   "source": [
    "## bpSaved_per_bpFaced"
   ]
  },
  {
   "cell_type": "code",
   "execution_count": null,
   "metadata": {},
   "outputs": [],
   "source": [
    "print(\"bpSaved/bpFaced correlation to win_rate: \" + str(df.corr(method ='pearson')['win_rate'][17]))"
   ]
  },
  {
   "cell_type": "code",
   "execution_count": null,
   "metadata": {},
   "outputs": [],
   "source": [
    "df18 = df.sort_values('bpSaved_per_bpFaced', ascending=False)[['player','bpSaved_per_bpFaced']].reset_index(drop=True)\n",
    "df18.head(5)"
   ]
  },
  {
   "cell_type": "code",
   "execution_count": null,
   "metadata": {},
   "outputs": [],
   "source": [
    "df18.loc[df18['player'].isin(top3players)][['player','bpSaved_per_bpFaced']]"
   ]
  },
  {
   "cell_type": "code",
   "execution_count": null,
   "metadata": {},
   "outputs": [],
   "source": [
    "df18['bpSaved_per_bpFaced'].hist()"
   ]
  },
  {
   "cell_type": "markdown",
   "metadata": {},
   "source": [
    "## 1stInsReceivedWon_per_received"
   ]
  },
  {
   "cell_type": "code",
   "execution_count": null,
   "metadata": {},
   "outputs": [],
   "source": [
    "print(\"1stInsReceivedWon/received correlation to win_rate: \" + str(df.corr(method ='pearson')['win_rate'][18]))"
   ]
  },
  {
   "cell_type": "code",
   "execution_count": null,
   "metadata": {},
   "outputs": [],
   "source": [
    "df19 = df.sort_values('1stInsReceivedWon_per_received', ascending=False)[['player','1stInsReceivedWon_per_received']].reset_index(drop=True)\n",
    "df19.head(5)"
   ]
  },
  {
   "cell_type": "code",
   "execution_count": null,
   "metadata": {},
   "outputs": [],
   "source": [
    "df19.loc[df19['player'].isin(top3players)][['player','1stInsReceivedWon_per_received']]"
   ]
  },
  {
   "cell_type": "code",
   "execution_count": null,
   "metadata": {},
   "outputs": [],
   "source": [
    "df19['1stInsReceivedWon_per_received'].hist()"
   ]
  },
  {
   "cell_type": "markdown",
   "metadata": {},
   "source": [
    "## 2ndInsReceivedWon_per_received"
   ]
  },
  {
   "cell_type": "code",
   "execution_count": null,
   "metadata": {},
   "outputs": [],
   "source": [
    "print(\"'2ndInsReceivedWon/received' correlation to win_rate: \" + str(df.corr(method ='pearson')['win_rate'][19]))"
   ]
  },
  {
   "cell_type": "code",
   "execution_count": null,
   "metadata": {},
   "outputs": [],
   "source": [
    "df20 = df.sort_values('2ndInsReceivedWon_per_received', ascending=False)[['player','2ndInsReceivedWon_per_received']].reset_index(drop=True)\n",
    "df20.head(5)"
   ]
  },
  {
   "cell_type": "code",
   "execution_count": null,
   "metadata": {},
   "outputs": [],
   "source": [
    "df20.loc[df20['player'].isin(top3players)][['player','2ndInsReceivedWon_per_received']]"
   ]
  },
  {
   "cell_type": "code",
   "execution_count": null,
   "metadata": {},
   "outputs": [],
   "source": [
    "df20['2ndInsReceivedWon_per_received'].hist()"
   ]
  },
  {
   "cell_type": "markdown",
   "metadata": {},
   "source": [
    "## bpChallenged_per_games_received"
   ]
  },
  {
   "cell_type": "code",
   "execution_count": null,
   "metadata": {},
   "outputs": [],
   "source": [
    "print(\"bpChallenged/games_received correlation to win_rate: \" + str(df.corr(method ='pearson')['win_rate'][20]))"
   ]
  },
  {
   "cell_type": "code",
   "execution_count": null,
   "metadata": {},
   "outputs": [],
   "source": [
    "df21 = df.sort_values('bpChallenged_per_games_received', ascending=False)[['player','bpChallenged_per_games_received']].reset_index(drop=True)\n",
    "df21.head(5)"
   ]
  },
  {
   "cell_type": "code",
   "execution_count": null,
   "metadata": {},
   "outputs": [],
   "source": [
    "df21.loc[df21['player'].isin(top3players)][['player','bpChallenged_per_games_received']]"
   ]
  },
  {
   "cell_type": "code",
   "execution_count": null,
   "metadata": {},
   "outputs": [],
   "source": [
    "df21['bpChallenged_per_games_received'].hist()"
   ]
  },
  {
   "cell_type": "markdown",
   "metadata": {},
   "source": [
    "## bpWon_per_bpChallenged"
   ]
  },
  {
   "cell_type": "code",
   "execution_count": null,
   "metadata": {},
   "outputs": [],
   "source": [
    "print(\"bpWon/bpChallenged correlation to win_rate: \" + str(df.corr(method ='pearson')['win_rate'][21]))"
   ]
  },
  {
   "cell_type": "code",
   "execution_count": null,
   "metadata": {},
   "outputs": [],
   "source": [
    "df22 = df.sort_values('bpWon_per_bpChallenged', ascending=False)[['player','bpWon_per_bpChallenged']].reset_index(drop=True)\n",
    "df22.head(5)"
   ]
  },
  {
   "cell_type": "code",
   "execution_count": null,
   "metadata": {},
   "outputs": [],
   "source": [
    "df22.loc[df22['player'].isin(top3players)][['player','bpWon_per_bpChallenged']]"
   ]
  },
  {
   "cell_type": "code",
   "execution_count": null,
   "metadata": {},
   "outputs": [],
   "source": [
    "df22['bpWon_per_bpChallenged'].hist()"
   ]
  },
  {
   "cell_type": "markdown",
   "metadata": {},
   "source": [
    "# Correlation"
   ]
  },
  {
   "cell_type": "code",
   "execution_count": null,
   "metadata": {},
   "outputs": [],
   "source": [
    "df.corr(method ='pearson')['win_rate'].to_frame().sort_values(by='win_rate',ascending=False)"
   ]
  },
  {
   "cell_type": "code",
   "execution_count": null,
   "metadata": {},
   "outputs": [],
   "source": [
    "df.corr(method ='pearson')[(df.corr(method ='pearson')['win_rate']>0.3)|(df.corr(method ='pearson')['win_rate']<-0.3)]['win_rate'][:-1].to_frame().sort_values(by='win_rate',ascending=False)"
   ]
  },
  {
   "cell_type": "code",
   "execution_count": null,
   "metadata": {},
   "outputs": [],
   "source": [
    "df.corr(method ='pearson')[df.corr(method ='pearson')['win_rate']<-0.3]['win_rate'].to_frame().sort_values(by='win_rate',ascending=False)"
   ]
  },
  {
   "cell_type": "markdown",
   "metadata": {},
   "source": [
    "# Extra: Clustering"
   ]
  },
  {
   "cell_type": "markdown",
   "metadata": {},
   "source": [
    "## Min max normalisation"
   ]
  },
  {
   "cell_type": "code",
   "execution_count": null,
   "metadata": {},
   "outputs": [],
   "source": [
    "df.corr(method ='pearson')[df.corr(method ='pearson')['win_rate']>0.3].index"
   ]
  },
  {
   "cell_type": "code",
   "execution_count": null,
   "metadata": {},
   "outputs": [],
   "source": [
    "df.corr(method ='pearson')[df.corr(method ='pearson')['win_rate']<-0.3].index"
   ]
  },
  {
   "cell_type": "code",
   "execution_count": null,
   "metadata": {},
   "outputs": [],
   "source": [
    "df2 = df[['1stWon_per_total1stserves', '1stWon_per_game_served',\n",
    "       '1stWon_per_1stIns', '2ndWon_per_total2ndserves', '2ndWon_per_2ndIn',\n",
    "       'bpSaved_per_bpFaced', '1stInsReceivedWon_per_received',\n",
    "       '2ndInsReceivedWon_per_received', 'bpChallenged_per_games_received',\n",
    "       'bpWon_per_bpChallenged','bpFaced_per_game_served']]\n",
    "min_max_scaler = preprocessing.MinMaxScaler()\n",
    "df2_scaled = min_max_scaler.fit_transform(df2.values)\n",
    "df2_scaled = pd.DataFrame(df2_scaled)\n",
    "df2_scaled.head(10)"
   ]
  },
  {
   "cell_type": "markdown",
   "metadata": {},
   "source": [
    "## PCA"
   ]
  },
  {
   "cell_type": "code",
   "execution_count": null,
   "metadata": {},
   "outputs": [],
   "source": [
    "sklearn_pca = sklearnPCA(n_components=2)\n",
    "Y_sklearn = sklearn_pca.fit_transform(df2_scaled)\n",
    "Y_sklearn"
   ]
  },
  {
   "cell_type": "code",
   "execution_count": null,
   "metadata": {},
   "outputs": [],
   "source": [
    "top3PCAco = [] \n",
    "\n",
    "for i in top3_indexs:\n",
    "    top3PCAco.append(Y_sklearn[i])\n",
    "\n",
    "Y_sklearn = np.delete(Y_sklearn, top3_indexs, 0)"
   ]
  },
  {
   "cell_type": "code",
   "execution_count": null,
   "metadata": {},
   "outputs": [],
   "source": [
    "xco, yco = zip(*Y_sklearn)\n",
    "top3xco, top3yco = zip(*top3PCAco)"
   ]
  },
  {
   "cell_type": "code",
   "execution_count": null,
   "metadata": {},
   "outputs": [],
   "source": [
    "plt.figure(figsize=(10,10))\n",
    "plt.title('PCA plot', size=20)\n",
    "plt.scatter(x=xco, y=yco, lw=0.5,s=50,c='#ADD8E6')\n",
    "plt.scatter(x=top3xco, y=top3yco,c='green',s=100,edgecolors='k',label=\"Top 3\")\n",
    "plt.xticks([], [])\n",
    "plt.yticks([], [])\n",
    "plt.legend()\n",
    "plt.show()"
   ]
  },
  {
   "cell_type": "markdown",
   "metadata": {},
   "source": [
    "## TSNE"
   ]
  },
  {
   "cell_type": "code",
   "execution_count": null,
   "metadata": {},
   "outputs": [],
   "source": [
    "tsne = manifold.TSNE(n_components=2, init='random',\n",
    "                         random_state=0, perplexity=30, learning_rate=500)\n",
    "tsne_res = tsne.fit_transform(df2_scaled)\n",
    "tsne_res"
   ]
  },
  {
   "cell_type": "code",
   "execution_count": null,
   "metadata": {},
   "outputs": [],
   "source": [
    "tsne_cords = tsne_res\n",
    "\n",
    "top3TSNEco = [] \n",
    "\n",
    "for i in top3_indexs:\n",
    "    top3TSNEco.append(tsne_res[i])\n",
    "    \n",
    "tsne_res = np.delete(tsne_res, top3_indexs, 0)"
   ]
  },
  {
   "cell_type": "code",
   "execution_count": null,
   "metadata": {},
   "outputs": [],
   "source": [
    "xco, yco = zip(*tsne_res)\n",
    "top3xco, top3yco = zip(*top3TSNEco)"
   ]
  },
  {
   "cell_type": "code",
   "execution_count": null,
   "metadata": {},
   "outputs": [],
   "source": [
    "plt.figure(figsize=(10,10))\n",
    "plt.title('TSNE plot', size=20)\n",
    "plt.scatter(x=xco, y=yco, lw=0.5,s=50,c='#ADD8E6')\n",
    "plt.scatter(x=top3xco, y=top3yco,c='green',s=100,edgecolors='k',label=\"Top 3\")\n",
    "plt.xticks([], [])\n",
    "plt.yticks([], [])\n",
    "plt.legend()\n",
    "plt.show()"
   ]
  },
  {
   "cell_type": "markdown",
   "metadata": {},
   "source": [
    "## MDS"
   ]
  },
  {
   "cell_type": "code",
   "execution_count": null,
   "metadata": {},
   "outputs": [],
   "source": [
    "mds = manifold.MDS(n_components=2, max_iter=3000, eps=1e-9, \n",
    "                   dissimilarity=\"euclidean\", n_jobs=1, random_state=10)\n",
    "pos = mds.fit(df2_scaled).embedding_\n",
    "pos"
   ]
  },
  {
   "cell_type": "code",
   "execution_count": null,
   "metadata": {},
   "outputs": [],
   "source": [
    "top3MDSco = [] \n",
    "\n",
    "for i in top3_indexs:\n",
    "    top3MDSco.append(pos[i])\n",
    "\n",
    "pos = np.delete(pos, top3_indexs, 0)"
   ]
  },
  {
   "cell_type": "code",
   "execution_count": null,
   "metadata": {},
   "outputs": [],
   "source": [
    "xco, yco = zip(*pos)\n",
    "top3xco, top3yco = zip(*top3MDSco)"
   ]
  },
  {
   "cell_type": "code",
   "execution_count": null,
   "metadata": {},
   "outputs": [],
   "source": [
    "plt.figure(figsize=(10,10))\n",
    "plt.title('MDS plot', size=20)\n",
    "plt.scatter(x=xco, y=yco, lw=0.5,s=50,c='#ADD8E6')\n",
    "plt.scatter(x=top3xco, y=top3yco,c='green',s=100,edgecolors='k',label=\"Top 3\")\n",
    "plt.xticks([], [])\n",
    "plt.yticks([], [])\n",
    "plt.legend()\n",
    "plt.show()"
   ]
  },
  {
   "cell_type": "markdown",
   "metadata": {},
   "source": [
    "## Hierarchical Clustering "
   ]
  },
  {
   "cell_type": "code",
   "execution_count": null,
   "metadata": {},
   "outputs": [],
   "source": [
    "a = linkage(tsne_cords, 'average')"
   ]
  },
  {
   "cell_type": "code",
   "execution_count": null,
   "metadata": {},
   "outputs": [],
   "source": [
    "plt.figure(figsize=(10,10))\n",
    "plt.title('Truncated Dendrogram',size=20)\n",
    "plt.xlabel('Cluster size',size=20)\n",
    "plt.ylabel('Distance',size=20)\n",
    "dendrogram(\n",
    "    a,\n",
    "    truncate_mode='lastp',  # show only the last p merged clusters\n",
    "    p=30,  # show only the last p merged clusters\n",
    "    leaf_rotation=90.,\n",
    "    leaf_font_size=12.,\n",
    "    show_contracted=True,  # to get a distribution impression in truncated branches\n",
    ")\n",
    "plt.axhline(12.5, color='black')\n",
    "plt.show()"
   ]
  },
  {
   "cell_type": "code",
   "execution_count": null,
   "metadata": {},
   "outputs": [],
   "source": [
    "max_d = 12.5\n",
    "clusters = fcluster(a, max_d, criterion='distance')\n",
    "clusters"
   ]
  },
  {
   "cell_type": "code",
   "execution_count": null,
   "metadata": {},
   "outputs": [],
   "source": [
    "mds_df = pd.DataFrame({'co-ord1':tsne_cords[:, 0],'co-ord2':tsne_cords[:, 1],'cluster':clusters})"
   ]
  },
  {
   "cell_type": "code",
   "execution_count": null,
   "metadata": {},
   "outputs": [],
   "source": [
    "mds_grouped = mds_df.groupby('cluster')"
   ]
  },
  {
   "cell_type": "code",
   "execution_count": null,
   "metadata": {},
   "outputs": [],
   "source": [
    "plt.figure(figsize=(10,10))\n",
    "plt.title('Hierarchical Clustering Of The tSNE Plot', size=20)\n",
    "labels = ['Cluster 1','Cluster 2','Cluster 3','Cluster 4','Cluster 5']\n",
    "for group_number, group in mds_grouped:\n",
    "    plt.scatter(data=group, x='co-ord1', y='co-ord2',label=labels[group_number-1],lw=0.5,s=50,edgecolors='k')\n",
    "plt.xticks([], [])\n",
    "plt.yticks([], [])\n",
    "plt.legend()"
   ]
  },
  {
   "cell_type": "markdown",
   "metadata": {},
   "source": [
    "## Feature Importance"
   ]
  },
  {
   "cell_type": "code",
   "execution_count": null,
   "metadata": {},
   "outputs": [],
   "source": [
    "# Build a forest and compute the feature importances\n",
    "forest = ExtraTreesClassifier(n_estimators=250,\n",
    "                              random_state=0)\n",
    "\n",
    "forest.fit(df2_scaled, clusters)\n",
    "\n",
    "importances = forest.feature_importances_\n",
    "\n",
    "indices = np.argsort(importances)[::-1]"
   ]
  },
  {
   "cell_type": "code",
   "execution_count": null,
   "metadata": {},
   "outputs": [],
   "source": [
    "features = [\n",
    " '2ndInsReceivedWon_per_received', \n",
    " 'bpChallenged_per_games_received',\n",
    " 'bpFaced_per_game_served',\n",
    " '1stInsReceivedWon_per_received', \n",
    " '2ndWon_per_total2ndserves', \n",
    " '1stWon_per_1stIns',\n",
    " '2ndWon_per_2ndIn', \n",
    " '1stWon_per_total1stserves',\n",
    " 'bpWon_per_bpChallenged',\n",
    " 'bpSaved_per_bpFaced', \n",
    " '1stWon_per_game_served',\n",
    "]"
   ]
  },
  {
   "cell_type": "code",
   "execution_count": null,
   "metadata": {},
   "outputs": [],
   "source": [
    "indices"
   ]
  },
  {
   "cell_type": "code",
   "execution_count": null,
   "metadata": {},
   "outputs": [],
   "source": [
    "InfoGain_df = pd.DataFrame({'Feature':features,'Importance':importances[indices]}).set_index('Feature')\n",
    "InfoGain_df"
   ]
  },
  {
   "cell_type": "code",
   "execution_count": null,
   "metadata": {},
   "outputs": [],
   "source": [
    "df2.columns[7]"
   ]
  },
  {
   "cell_type": "code",
   "execution_count": null,
   "metadata": {},
   "outputs": [],
   "source": [
    "df2.columns[8]"
   ]
  },
  {
   "cell_type": "code",
   "execution_count": null,
   "metadata": {},
   "outputs": [],
   "source": [
    "df2.columns[10]"
   ]
  },
  {
   "cell_type": "markdown",
   "metadata": {},
   "source": [
    "# Correlations"
   ]
  },
  {
   "cell_type": "code",
   "execution_count": null,
   "metadata": {},
   "outputs": [],
   "source": [
    "df.corr(method ='pearson')['win_rate']"
   ]
  }
 ],
 "metadata": {
  "kernelspec": {
   "display_name": "Python 3",
   "language": "python",
   "name": "python3"
  },
  "language_info": {
   "codemirror_mode": {
    "name": "ipython",
    "version": 3
   },
   "file_extension": ".py",
   "mimetype": "text/x-python",
   "name": "python",
   "nbconvert_exporter": "python",
   "pygments_lexer": "ipython3",
   "version": "3.7.6"
  },
  "toc": {
   "base_numbering": 1,
   "nav_menu": {},
   "number_sections": true,
   "sideBar": true,
   "skip_h1_title": false,
   "title_cell": "Table of Contents",
   "title_sidebar": "Contents",
   "toc_cell": true,
   "toc_position": {},
   "toc_section_display": true,
   "toc_window_display": false
  }
 },
 "nbformat": 4,
 "nbformat_minor": 4
}
